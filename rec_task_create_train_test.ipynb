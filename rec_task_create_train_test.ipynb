{
 "cells": [
  {
   "cell_type": "markdown",
   "metadata": {},
   "source": [
    "# Sections\n",
    "## - Load Reviews\n",
    "## - Data Exploration of Positive Reviews\n",
    "## - Create Train and Test Data\n",
    "### - Preprocess Review Text\n",
    "### - Create 2 Test groups - \"Seen\" users and \"Unseen\" users\n",
    "### - Understand \"User in City\" activity distribution\n",
    "### - Add 1 city data for \"Seen\" users into Train set\n",
    "### - Create Final Test Set"
   ]
  },
  {
   "cell_type": "markdown",
   "metadata": {},
   "source": [
    "## Setup Environment\n",
    "##### import necessary libraries"
   ]
  },
  {
   "cell_type": "code",
   "execution_count": 1,
   "metadata": {},
   "outputs": [],
   "source": [
    "import re\n",
    "import nltk\n",
    "import os\n",
    "import pandas\n",
    "import json\n",
    "#nltk.download('stopwords') #uncomment on a new system\n",
    "from nltk.corpus import stopwords\n",
    "#nltk.download('wordnet') #uncomment on a new system\n",
    "from sklearn.model_selection import train_test_split"
   ]
  },
  {
   "cell_type": "markdown",
   "metadata": {},
   "source": [
    "## Load Reviews"
   ]
  },
  {
   "cell_type": "code",
   "execution_count": 2,
   "metadata": {},
   "outputs": [],
   "source": [
    "def read_data(datafilename):\n",
    "    data_file = open(datafilename,'r')\n",
    "    data = []\n",
    "    for line in data_file:\n",
    "        data.append(json.loads(line))\n",
    "    data_file.close()\n",
    "    return data"
   ]
  },
  {
   "cell_type": "code",
   "execution_count": 3,
   "metadata": {},
   "outputs": [],
   "source": [
    "reviews='data/yelp_academic_dataset_review.json'"
   ]
  },
  {
   "cell_type": "code",
   "execution_count": 4,
   "metadata": {},
   "outputs": [
    {
     "name": "stdout",
     "output_type": "stream",
     "text": [
      "(6685900, 9)\n",
      "Index(['review_id', 'user_id', 'business_id', 'stars', 'useful', 'funny',\n",
      "       'cool', 'text', 'date'],\n",
      "      dtype='object')\n"
     ]
    }
   ],
   "source": [
    "raw=read_data(reviews)\n",
    "df = pandas.json_normalize(raw,max_level=1)\n",
    "print(df.shape)\n",
    "print(df.columns)"
   ]
  },
  {
   "cell_type": "markdown",
   "metadata": {},
   "source": [
    "## It is intuitive to train a recommender on \"positive\" interactions of users. Find out the number of positive reviews and see if its feasible to train only on positive reviews and other \"positive\" activity."
   ]
  },
  {
   "cell_type": "code",
   "execution_count": 5,
   "metadata": {},
   "outputs": [
    {
     "name": "stdout",
     "output_type": "stream",
     "text": [
      "5.0    2933082\n",
      "4.0    1468985\n",
      "1.0    1002159\n",
      "3.0     739280\n",
      "2.0     542394\n",
      "Name: stars, dtype: int64\n"
     ]
    }
   ],
   "source": [
    "stars_ranges=df['stars'].value_counts()\n",
    "print(stars_ranges)"
   ]
  },
  {
   "cell_type": "code",
   "execution_count": 6,
   "metadata": {},
   "outputs": [],
   "source": [
    "pos_data=df[df['stars']>=4]"
   ]
  },
  {
   "cell_type": "code",
   "execution_count": 8,
   "metadata": {},
   "outputs": [
    {
     "name": "stdout",
     "output_type": "stream",
     "text": [
      "1251983\n"
     ]
    }
   ],
   "source": [
    "users_with_pos_reviews=pos_data['user_id'].nunique()\n",
    "print(users_with_pos_reviews)"
   ]
  },
  {
   "cell_type": "code",
   "execution_count": 9,
   "metadata": {},
   "outputs": [
    {
     "name": "stdout",
     "output_type": "stream",
     "text": [
      "183477\n"
     ]
    }
   ],
   "source": [
    "businesses_with_pos_reviews=pos_data['business_id'].nunique()\n",
    "print(businesses_with_pos_reviews)"
   ]
  },
  {
   "cell_type": "code",
   "execution_count": 13,
   "metadata": {},
   "outputs": [
    {
     "name": "stdout",
     "output_type": "stream",
     "text": [
      "Our family LOVES the food here. Quick, friendly, delicious, and a great restaurant to take kids to. 5 stars!\n"
     ]
    }
   ],
   "source": [
    "print(pos_data.iloc[10]['text'])"
   ]
  },
  {
   "cell_type": "markdown",
   "metadata": {},
   "source": [
    "## Conclusion: There are enough users with positive reviews and enough businesses with positive reviews to train starspace embeddings model."
   ]
  },
  {
   "cell_type": "markdown",
   "metadata": {},
   "source": [
    "## Load business data to find cities and metadata of the businesses with positive reviews"
   ]
  },
  {
   "cell_type": "code",
   "execution_count": 14,
   "metadata": {},
   "outputs": [
    {
     "name": "stdout",
     "output_type": "stream",
     "text": [
      "(192609, 14)\n",
      "Index(['business_id', 'name', 'address', 'city', 'state', 'postal_code',\n",
      "       'latitude', 'longitude', 'stars', 'review_count', 'is_open',\n",
      "       'attributes', 'categories', 'hours'],\n",
      "      dtype='object')\n",
      "CPU times: user 13.4 s, sys: 49.7 s, total: 1min 3s\n",
      "Wall time: 1min 46s\n"
     ]
    }
   ],
   "source": [
    "%%time\n",
    "bizdata='data/yelp_academic_dataset_business.json'\n",
    "raw=read_data(bizdata)\n",
    "bizdf = pandas.DataFrame(raw)\n",
    "print(bizdf.shape)\n",
    "print(bizdf.columns)"
   ]
  },
  {
   "cell_type": "code",
   "execution_count": 15,
   "metadata": {},
   "outputs": [],
   "source": [
    "bizdf=bizdf.drop(['address','state', 'postal_code',\n",
    "       'latitude', 'longitude','attributes', 'hours'],axis=1)"
   ]
  },
  {
   "cell_type": "code",
   "execution_count": 16,
   "metadata": {},
   "outputs": [
    {
     "name": "stdout",
     "output_type": "stream",
     "text": [
      "(192609, 7)\n",
      "Index(['business_id', 'name', 'city', 'stars', 'review_count', 'is_open',\n",
      "       'categories'],\n",
      "      dtype='object')\n"
     ]
    }
   ],
   "source": [
    "print(bizdf.shape)\n",
    "print(bizdf.columns)"
   ]
  },
  {
   "cell_type": "code",
   "execution_count": 17,
   "metadata": {},
   "outputs": [
    {
     "name": "stdout",
     "output_type": "stream",
     "text": [
      "CPU times: user 7.68 s, sys: 21.6 s, total: 29.3 s\n",
      "Wall time: 51 s\n"
     ]
    }
   ],
   "source": [
    "%%time\n",
    "pos_data_with_dets=pandas.merge(pos_data,bizdf,how='left',left_on='business_id',right_on='business_id')"
   ]
  },
  {
   "cell_type": "code",
   "execution_count": 18,
   "metadata": {},
   "outputs": [
    {
     "name": "stdout",
     "output_type": "stream",
     "text": [
      "(4402067, 15)\n",
      "Index(['review_id', 'user_id', 'business_id', 'stars_x', 'useful', 'funny',\n",
      "       'cool', 'text', 'date', 'name', 'city', 'stars_y', 'review_count',\n",
      "       'is_open', 'categories'],\n",
      "      dtype='object')\n"
     ]
    }
   ],
   "source": [
    "print(pos_data_with_dets.shape)\n",
    "print(pos_data_with_dets.columns)"
   ]
  },
  {
   "cell_type": "code",
   "execution_count": 19,
   "metadata": {},
   "outputs": [
    {
     "name": "stdout",
     "output_type": "stream",
     "text": [
      "0\n"
     ]
    }
   ],
   "source": [
    "#Nice, every business has a city\n",
    "chkna=pos_data_with_dets['city'].isna().sum()\n",
    "print(chkna)"
   ]
  },
  {
   "cell_type": "markdown",
   "metadata": {},
   "source": [
    "# Create Train and Test data"
   ]
  },
  {
   "cell_type": "code",
   "execution_count": null,
   "metadata": {},
   "outputs": [],
   "source": [
    "uniq_user_ids=pos_data['user_id'].unique()\n",
    "print(uniq_user_ids.shape)"
   ]
  },
  {
   "cell_type": "code",
   "execution_count": 22,
   "metadata": {},
   "outputs": [
    {
     "name": "stdout",
     "output_type": "stream",
     "text": [
      "(4402067, 9)\n"
     ]
    }
   ],
   "source": [
    "print(pos_data.shape)"
   ]
  },
  {
   "cell_type": "markdown",
   "metadata": {},
   "source": [
    "## Preprocess User Review Text:\n",
    "<ul>\n",
    "    <li> Remove weird symbols </li>\n",
    "    <li> Remove stopwords </li>\n",
    "    <li> Lemmatize the words </li>\n",
    "</ul>"
   ]
  },
  {
   "cell_type": "code",
   "execution_count": 26,
   "metadata": {},
   "outputs": [],
   "source": [
    "REPLACE_BY_SPACE_RE = re.compile('[/(){}\\[\\]\\|@,;]')\n",
    "BAD_SYMBOLS_RE = re.compile('[^0-9a-z #+_]')\n",
    "STOPWORDS = set(stopwords.words('english'))\n",
    "stemmer = nltk.stem.WordNetLemmatizer()\n",
    "def text_prepare(text):\n",
    "    \"\"\"\n",
    "        text: a string\n",
    "        \n",
    "        return: modified initial string\n",
    "    \"\"\"\n",
    "    text = text.lower() # lowercase text\n",
    "    text = re.sub(REPLACE_BY_SPACE_RE,' ',text) # replace REPLACE_BY_SPACE_RE symbols by space in text\n",
    "    text = re.sub(BAD_SYMBOLS_RE,' ',text) # delete symbols which are in BAD_SYMBOLS_RE from text\n",
    "    text_words=text.split(' ')\n",
    "    #lowercase,remove urls,delete stopwords and blanks\n",
    "    resultwords= []\n",
    "    for word in text_words:\n",
    "        if len(word)<=0: continue\n",
    "        if word in STOPWORDS: continue\n",
    "        if word.find('http')==0: word='url'\n",
    "        resultwords.append(word)\n",
    "        \n",
    "    #resultwords  = [word for word in text_words if word.lower() not in STOPWORDS and len(word)>0] # delete stopwords from text\n",
    "    final_words = [stemmer.lemmatize(token) for token in resultwords] #lemmatize words\n",
    "    text = ' '.join(final_words) \n",
    "    return text"
   ]
  },
  {
   "cell_type": "code",
   "execution_count": 27,
   "metadata": {},
   "outputs": [
    {
     "name": "stdout",
     "output_type": "stream",
     "text": [
      "CPU times: user 16min 11s, sys: 24.1 s, total: 16min 35s\n",
      "Wall time: 17min 21s\n"
     ]
    }
   ],
   "source": [
    "%%time\n",
    "pos_data_with_dets['text_prep']=pos_data_with_dets['text'].apply(text_prepare)"
   ]
  },
  {
   "cell_type": "code",
   "execution_count": 30,
   "metadata": {},
   "outputs": [
    {
     "name": "stdout",
     "output_type": "stream",
     "text": [
      "Raw\n",
      "It was my first time here and I was definitely\n",
      "Impressed. The groomers work and etiquette was lovely. I usually need the works when it comes to my little schweenie mix. ;) I'm glad I went to her and will most definitely be back!\n",
      "Prepped\n",
      "first time definitely impressed groomers work etiquette lovely usually need work come little schweenie mix glad went definitely back\n"
     ]
    }
   ],
   "source": [
    "print(\"Raw\")\n",
    "print(pos_data_with_dets.iloc[100]['text'])\n",
    "print(\"Prepped\")\n",
    "print(pos_data_with_dets.iloc[100]['text_prep'])"
   ]
  },
  {
   "cell_type": "code",
   "execution_count": 29,
   "metadata": {},
   "outputs": [
    {
     "name": "stdout",
     "output_type": "stream",
     "text": [
      "Index(['review_id', 'user_id', 'business_id', 'stars', 'useful', 'funny',\n",
      "       'cool', 'text', 'date'],\n",
      "      dtype='object')\n",
      "Index(['review_id', 'user_id', 'business_id', 'stars_x', 'useful', 'funny',\n",
      "       'cool', 'text', 'date', 'name', 'city', 'stars_y', 'review_count',\n",
      "       'is_open', 'categories', 'text_prep'],\n",
      "      dtype='object')\n"
     ]
    }
   ],
   "source": [
    "print(pos_data.columns)\n",
    "print(pos_data_with_dets.columns)"
   ]
  },
  {
   "cell_type": "code",
   "execution_count": 31,
   "metadata": {},
   "outputs": [],
   "source": [
    "pos_data_with_dets.iloc[:100].to_csv('100pos_data.csv',index=False)"
   ]
  },
  {
   "cell_type": "code",
   "execution_count": 34,
   "metadata": {},
   "outputs": [],
   "source": [
    "pos_data_with_dets=pos_data_with_dets.rename({'stars_x':'review_stars','stars_y':'business_stars'},axis=1)"
   ]
  },
  {
   "cell_type": "code",
   "execution_count": 35,
   "metadata": {},
   "outputs": [
    {
     "name": "stdout",
     "output_type": "stream",
     "text": [
      "Index(['review_id', 'user_id', 'business_id', 'review_stars', 'useful',\n",
      "       'funny', 'cool', 'text', 'date', 'name', 'city', 'business_stars',\n",
      "       'review_count', 'is_open', 'categories', 'text_prep'],\n",
      "      dtype='object')\n"
     ]
    }
   ],
   "source": [
    "print(pos_data_with_dets.columns)"
   ]
  },
  {
   "cell_type": "code",
   "execution_count": 36,
   "metadata": {},
   "outputs": [],
   "source": [
    "pos_data_with_dets=pos_data_with_dets.drop(['text'],axis=1)"
   ]
  },
  {
   "cell_type": "code",
   "execution_count": 37,
   "metadata": {},
   "outputs": [],
   "source": [
    "pos_data_with_dets.to_pickle(\"data/rec_task_data.pkl\")"
   ]
  },
  {
   "cell_type": "markdown",
   "metadata": {},
   "source": [
    "# Create 2 Test groups - \"Seen\" users and \"Unseen\" users\n",
    "\n",
    "### Refer to \"Metrics\" Slides"
   ]
  },
  {
   "cell_type": "code",
   "execution_count": 41,
   "metadata": {},
   "outputs": [
    {
     "name": "stdout",
     "output_type": "stream",
     "text": [
      "(1251983,)\n"
     ]
    }
   ],
   "source": [
    "userids=pos_data['user_id'].unique()\n",
    "print(userids.shape)"
   ]
  },
  {
   "cell_type": "code",
   "execution_count": 43,
   "metadata": {},
   "outputs": [
    {
     "name": "stdout",
     "output_type": "stream",
     "text": [
      "[1189383, 37560, 25040]\n",
      "[94.99993210770434, 3.0000407353773975, 2.000027156918265]\n"
     ]
    }
   ],
   "source": [
    "train_users,rem_users=train_test_split(userids,random_state=42,test_size=0.05)\n",
    "test_seen_users,test_unseen_users=train_test_split(rem_users,random_state=42,test_size=0.4)\n",
    "l=[train_users.shape[0],test_seen_users.shape[0],test_unseen_users.shape[0]]\n",
    "l2=[e*100/userids.shape[0] for e in l]\n",
    "print(l)\n",
    "print(l2)"
   ]
  },
  {
   "cell_type": "code",
   "execution_count": 48,
   "metadata": {},
   "outputs": [
    {
     "name": "stdout",
     "output_type": "stream",
     "text": [
      "(4185518, 15)\n",
      "1189383\n",
      "CPU times: user 4.93 s, sys: 5.34 s, total: 10.3 s\n",
      "Wall time: 14.5 s\n"
     ]
    }
   ],
   "source": [
    "%%time\n",
    "train_data=pos_data_with_dets[pos_data_with_dets['user_id'].isin(train_users)]\n",
    "#check\n",
    "print(train_data.shape)\n",
    "print(train_data['user_id'].nunique())"
   ]
  },
  {
   "cell_type": "code",
   "execution_count": 49,
   "metadata": {},
   "outputs": [
    {
     "name": "stdout",
     "output_type": "stream",
     "text": [
      "(129631, 15)\n",
      "37560\n",
      "CPU times: user 1.12 s, sys: 64.3 ms, total: 1.18 s\n",
      "Wall time: 1.23 s\n"
     ]
    }
   ],
   "source": [
    "%%time\n",
    "train_test_seen_users=pos_data_with_dets[pos_data_with_dets['user_id'].isin(test_seen_users)]\n",
    "#check\n",
    "print(train_test_seen_users.shape)\n",
    "print(train_test_seen_users['user_id'].nunique())"
   ]
  },
  {
   "cell_type": "code",
   "execution_count": 44,
   "metadata": {},
   "outputs": [],
   "source": [
    "test_unseen_data=pos_data_with_dets[pos_data_with_dets['user_id'].isin(test_unseen_users)]"
   ]
  },
  {
   "cell_type": "code",
   "execution_count": 47,
   "metadata": {},
   "outputs": [
    {
     "name": "stdout",
     "output_type": "stream",
     "text": [
      "(86918, 15)\n",
      "25040\n"
     ]
    }
   ],
   "source": [
    "print(test_unseen_data.shape)\n",
    "print(test_unseen_data['user_id'].nunique())"
   ]
  },
  {
   "cell_type": "code",
   "execution_count": 50,
   "metadata": {},
   "outputs": [
    {
     "name": "stdout",
     "output_type": "stream",
     "text": [
      "(4185518, 16)\n",
      "Index(['review_id', 'user_id', 'business_id', 'review_stars', 'useful',\n",
      "       'funny', 'cool', 'date', 'name', 'city', 'business_stars',\n",
      "       'review_count', 'is_open', 'categories', 'text_prep',\n",
      "       'train_data_text'],\n",
      "      dtype='object')\n",
      "CPU times: user 4min 21s, sys: 54.2 s, total: 5min 15s\n",
      "Wall time: 6min 37s\n"
     ]
    }
   ],
   "source": [
    "%%time\n",
    "train_data['train_data_text']=train_data.groupby(['user_id'])['text_prep'].transform(lambda x: '\\t'.join(x))\n",
    "print(train_data.shape)\n",
    "print(train_data.columns)"
   ]
  },
  {
   "cell_type": "code",
   "execution_count": 51,
   "metadata": {},
   "outputs": [
    {
     "name": "stdout",
     "output_type": "stream",
     "text": [
      "Index(['user_id', 'train_data_text'], dtype='object')\n"
     ]
    }
   ],
   "source": [
    "train_data_sub=train_data.drop(['review_id','business_id','review_stars','useful','funny','cool',\n",
    "                                'date','name','city','business_stars','review_count','is_open',\n",
    "                                'categories','text_prep'],axis=1)\n",
    "print(train_data_sub.columns)"
   ]
  },
  {
   "cell_type": "code",
   "execution_count": 52,
   "metadata": {},
   "outputs": [
    {
     "name": "stdout",
     "output_type": "stream",
     "text": [
      "(1189383, 2)\n",
      "Index(['user_id', 'train_data_text'], dtype='object')\n"
     ]
    }
   ],
   "source": [
    "#this took 2-3 mins. to finish\n",
    "train_data_sub.drop_duplicates(inplace=True)\n",
    "print(train_data_sub.shape)\n",
    "print(train_data_sub.columns)"
   ]
  },
  {
   "cell_type": "code",
   "execution_count": 53,
   "metadata": {},
   "outputs": [
    {
     "name": "stdout",
     "output_type": "stream",
     "text": [
      "CPU times: user 1.6 s, sys: 3.06 s, total: 4.66 s\n",
      "Wall time: 6.67 s\n"
     ]
    }
   ],
   "source": [
    "%%time\n",
    "train_data_sub.to_pickle(\"data/rec_task_train_set1.pkl\")"
   ]
  },
  {
   "cell_type": "code",
   "execution_count": 54,
   "metadata": {},
   "outputs": [],
   "source": [
    "#check\n",
    "train_data_sub['train_data_text'][:100].to_csv('data/rec_task_train_set1.txt',header=None,index=False)"
   ]
  },
  {
   "cell_type": "code",
   "execution_count": 64,
   "metadata": {},
   "outputs": [],
   "source": [
    "train_data_sub['train_data_text'].to_csv('data/rec_task_train_set1.txt',header=None,index=False)"
   ]
  },
  {
   "cell_type": "markdown",
   "metadata": {},
   "source": [
    "## To create tests for Seen users, select users with activity in 2 cities. Put one city activity in training and another city activity in test. "
   ]
  },
  {
   "cell_type": "code",
   "execution_count": 56,
   "metadata": {},
   "outputs": [],
   "source": [
    "test_seen_user_city=train_test_seen_users[['user_id','city']]"
   ]
  },
  {
   "cell_type": "code",
   "execution_count": 58,
   "metadata": {},
   "outputs": [],
   "source": [
    "user_city_stats=test_seen_user_city.groupby(['user_id']).size()"
   ]
  },
  {
   "cell_type": "markdown",
   "metadata": {},
   "source": [
    "### Understand \"User in City\" activity distribution.\n",
    "- How many cities are users active in?\n",
    "- How skewed is this distribution?"
   ]
  },
  {
   "cell_type": "code",
   "execution_count": 63,
   "metadata": {},
   "outputs": [
    {
     "data": {
      "text/plain": [
       "<AxesSubplot:>"
      ]
     },
     "execution_count": 63,
     "metadata": {},
     "output_type": "execute_result"
    },
    {
     "data": {
      "image/png": "[encoded data removed]",
      "text/plain": [
       "<Figure size 432x288 with 1 Axes>"
      ]
     },
     "metadata": {
      "needs_background": "light"
     },
     "output_type": "display_data"
    }
   ],
   "source": [
    "user_city_stats.hist(bins=10,range=(0,10))"
   ]
  },
  {
   "cell_type": "code",
   "execution_count": 67,
   "metadata": {},
   "outputs": [
    {
     "data": {
      "text/plain": [
       "user_id\n",
       "--6D_IuxyKTN53pHi904ag     2\n",
       "--Br-QsbO9ad5GbZxVGxaw     4\n",
       "--BumyUHiO_7YsHurb9Hkw    46\n",
       "--F1tbZdtqrqx_Uh8rFFBw     3\n",
       "--OifHfYcX6tFOdcVCqXsA     1\n",
       "dtype: int64"
      ]
     },
     "execution_count": 67,
     "metadata": {},
     "output_type": "execute_result"
    }
   ],
   "source": [
    "user_city_stats[:5]"
   ]
  },
  {
   "cell_type": "code",
   "execution_count": 75,
   "metadata": {},
   "outputs": [
    {
     "data": {
      "text/plain": [
       "Index(['--6D_IuxyKTN53pHi904ag', '--Br-QsbO9ad5GbZxVGxaw',\n",
       "       '--BumyUHiO_7YsHurb9Hkw', '--F1tbZdtqrqx_Uh8rFFBw',\n",
       "       '--OifHfYcX6tFOdcVCqXsA'],\n",
       "      dtype='object', name='user_id')"
      ]
     },
     "execution_count": 75,
     "metadata": {},
     "output_type": "execute_result"
    }
   ],
   "source": [
    "user_city_stats.index[:5]"
   ]
  },
  {
   "cell_type": "code",
   "execution_count": 76,
   "metadata": {},
   "outputs": [],
   "source": [
    "users1city=user_city_stats[user_city_stats==1].index[:]"
   ]
  },
  {
   "cell_type": "code",
   "execution_count": 77,
   "metadata": {},
   "outputs": [
    {
     "data": {
      "text/plain": [
       "Index(['--OifHfYcX6tFOdcVCqXsA', '--iYUTSkH-LjfQt9EN8Nnw',\n",
       "       '--rriu0TdaMVM6X11S3qAA', '--zWE4s60CxcJp3S3S0F1g',\n",
       "       '-02x76pkdZIneICXoPKNoA'],\n",
       "      dtype='object', name='user_id')"
      ]
     },
     "execution_count": 77,
     "metadata": {},
     "output_type": "execute_result"
    }
   ],
   "source": [
    "users1city[:5]"
   ]
  },
  {
   "cell_type": "code",
   "execution_count": 78,
   "metadata": {},
   "outputs": [],
   "source": [
    "users2cities=user_city_stats[user_city_stats>=2].index[:]"
   ]
  },
  {
   "cell_type": "code",
   "execution_count": 79,
   "metadata": {},
   "outputs": [
    {
     "name": "stdout",
     "output_type": "stream",
     "text": [
      "(20543,)\n",
      "(17017,)\n"
     ]
    }
   ],
   "source": [
    "print(users1city.shape)\n",
    "print(users2cities.shape)"
   ]
  },
  {
   "cell_type": "markdown",
   "metadata": {},
   "source": [
    "## Add \"Seen\" users activity in 1 or more cities to training partition"
   ]
  },
  {
   "cell_type": "code",
   "execution_count": 80,
   "metadata": {},
   "outputs": [],
   "source": [
    "train_users1city=train_test_seen_users[train_test_seen_users['user_id'].isin(users1city)]"
   ]
  },
  {
   "cell_type": "code",
   "execution_count": 81,
   "metadata": {},
   "outputs": [
    {
     "name": "stdout",
     "output_type": "stream",
     "text": [
      "(20543, 15)\n",
      "Index(['review_id', 'user_id', 'business_id', 'review_stars', 'useful',\n",
      "       'funny', 'cool', 'date', 'name', 'city', 'business_stars',\n",
      "       'review_count', 'is_open', 'categories', 'text_prep'],\n",
      "      dtype='object')\n"
     ]
    }
   ],
   "source": [
    "print(train_users1city.shape)\n",
    "print(train_users1city.columns)"
   ]
  },
  {
   "cell_type": "code",
   "execution_count": 82,
   "metadata": {},
   "outputs": [
    {
     "name": "stdout",
     "output_type": "stream",
     "text": [
      "(20543, 2)\n",
      "Index(['user_id', 'train_data_text'], dtype='object')\n",
      "CPU times: user 4.65 s, sys: 1.36 s, total: 6.01 s\n",
      "Wall time: 8.52 s\n"
     ]
    }
   ],
   "source": [
    "%%time\n",
    "train_users1city['train_data_text']=train_users1city.groupby(['user_id'])['text_prep'].transform(lambda x: '\\t'.join(x))\n",
    "train_users1city_sub=train_users1city.drop(['review_id','business_id','review_stars','useful','funny','cool',\n",
    "                                'date','name','city','business_stars','review_count','is_open',\n",
    "                                'categories','text_prep'],axis=1)\n",
    "train_users1city_sub.drop_duplicates(inplace=True)\n",
    "print(train_users1city_sub.shape)\n",
    "print(train_users1city_sub.columns)"
   ]
  },
  {
   "cell_type": "code",
   "execution_count": 83,
   "metadata": {},
   "outputs": [],
   "source": [
    "train_users1city_sub.to_pickle(\"data/rec_task_train_set2.pkl\")\n",
    "train_users1city_sub['train_data_text'].to_csv('data/rec_task_train_set2.txt',header=None,index=False)"
   ]
  },
  {
   "cell_type": "code",
   "execution_count": 89,
   "metadata": {},
   "outputs": [],
   "source": [
    "train_test_users2cities=train_test_seen_users[train_test_seen_users['user_id'].isin(users2cities)]"
   ]
  },
  {
   "cell_type": "code",
   "execution_count": 96,
   "metadata": {},
   "outputs": [
    {
     "name": "stdout",
     "output_type": "stream",
     "text": [
      "Henderson\n",
      "city\n",
      "Henderson           1\n",
      "North Las Vegas     3\n",
      "Las Vegas          56\n",
      "dtype: int64\n"
     ]
    }
   ],
   "source": [
    "#try for one\n",
    "userid=train_test_users2cities['user_id'].iloc[100]\n",
    "\n",
    "userdata=train_test_users2cities[train_test_users2cities['user_id']==userid]\n",
    "user_city_stats=userdata.groupby(['city']).size().sort_values()\n",
    "max_city=user_city_stats.index[0]\n",
    "print(max_city)\n",
    "print(user_city_stats)"
   ]
  },
  {
   "cell_type": "code",
   "execution_count": 99,
   "metadata": {},
   "outputs": [
    {
     "name": "stdout",
     "output_type": "stream",
     "text": [
      "Index(['review_id', 'user_id', 'business_id', 'review_stars', 'useful',\n",
      "       'funny', 'cool', 'date', 'name', 'city', 'business_stars',\n",
      "       'review_count', 'is_open', 'categories', 'text_prep'],\n",
      "      dtype='object')\n"
     ]
    }
   ],
   "source": [
    "print(userdata.columns)"
   ]
  },
  {
   "cell_type": "code",
   "execution_count": null,
   "metadata": {},
   "outputs": [],
   "source": [
    "#%%time\n",
    "trainset3=[]\n",
    "seen_tests=[]\n",
    "counter=0\n",
    "for userid in users2cities:\n",
    "    userdata=train_test_users2cities[train_test_users2cities['user_id']==userid]\n",
    "    user_city_stats=userdata.groupby(['city']).size().sort_values()\n",
    "    test_city=user_city_stats.index[0]\n",
    "    test_cases=userdata[userdata['city']==test_city]\n",
    "    seen_tests.append(test_cases)\n",
    "    fortrain=userdata[~(userdata['city']==test_city)]\n",
    "    trainset3.append(fortrain)\n",
    "    counter+=1\n",
    "    if counter%1000==0:\n",
    "        print(\"Done \"+str(counter))"
   ]
  },
  {
   "cell_type": "code",
   "execution_count": 105,
   "metadata": {},
   "outputs": [
    {
     "name": "stdout",
     "output_type": "stream",
     "text": [
      "(9614, 2)\n",
      "Index(['user_id', 'train_data_text'], dtype='object')\n",
      "CPU times: user 15.8 s, sys: 5.92 s, total: 21.7 s\n",
      "Wall time: 33.5 s\n"
     ]
    }
   ],
   "source": [
    "%%time\n",
    "train_users2cities=pandas.concat(trainset3,ignore_index=True)\n",
    "train_users2cities['train_data_text']=train_users2cities.groupby(['user_id'])['text_prep'].transform(lambda x: '\\t'.join(x))\n",
    "train_users2cities_sub=train_users2cities.drop(['review_id','business_id','review_stars','useful','funny','cool',\n",
    "                                'date','name','city','business_stars','review_count','is_open',\n",
    "                                'categories','text_prep'],axis=1)\n",
    "train_users2cities_sub.drop_duplicates(inplace=True)\n",
    "print(train_users2cities_sub.shape)\n",
    "print(train_users2cities_sub.columns)"
   ]
  },
  {
   "cell_type": "code",
   "execution_count": 106,
   "metadata": {},
   "outputs": [],
   "source": [
    "train_users2cities_sub.to_pickle(\"data/rec_task_train_set3.pkl\")\n",
    "train_users2cities_sub['train_data_text'].to_csv('data/rec_task_train_set3.txt',header=None,index=False)"
   ]
  },
  {
   "cell_type": "code",
   "execution_count": 107,
   "metadata": {},
   "outputs": [
    {
     "name": "stdout",
     "output_type": "stream",
     "text": [
      "(1219540, 2)\n"
     ]
    }
   ],
   "source": [
    "all_train_data_sub=pandas.concat([train_data_sub,train_users1city_sub,train_users2cities_sub],ignore_index=True)\n",
    "print(all_train_data_sub.shape)\n",
    "all_train_data_sub.to_pickle(\"data/rec_task_train_set_all.pkl\")"
   ]
  },
  {
   "cell_type": "markdown",
   "metadata": {},
   "source": [
    "# Create Final Test data for \"Seen\" and \"Unseen\" Users"
   ]
  },
  {
   "cell_type": "code",
   "execution_count": 108,
   "metadata": {},
   "outputs": [],
   "source": [
    "test_seen_users=pandas.concat(seen_tests,ignore_index=True)"
   ]
  },
  {
   "cell_type": "code",
   "execution_count": 109,
   "metadata": {},
   "outputs": [
    {
     "name": "stdout",
     "output_type": "stream",
     "text": [
      "(37977, 15)\n",
      "Index(['review_id', 'user_id', 'business_id', 'review_stars', 'useful',\n",
      "       'funny', 'cool', 'date', 'name', 'city', 'business_stars',\n",
      "       'review_count', 'is_open', 'categories', 'text_prep'],\n",
      "      dtype='object')\n"
     ]
    }
   ],
   "source": [
    "print(test_seen_users.shape)\n",
    "print(test_seen_users.columns)"
   ]
  },
  {
   "cell_type": "code",
   "execution_count": 110,
   "metadata": {},
   "outputs": [],
   "source": [
    "test_seen_users.to_pickle(\"data/rec_task_test_seen_users.pkl\")"
   ]
  },
  {
   "cell_type": "code",
   "execution_count": 111,
   "metadata": {},
   "outputs": [
    {
     "name": "stdout",
     "output_type": "stream",
     "text": [
      "(86918, 15)\n",
      "Index(['review_id', 'user_id', 'business_id', 'review_stars', 'useful',\n",
      "       'funny', 'cool', 'date', 'name', 'city', 'business_stars',\n",
      "       'review_count', 'is_open', 'categories', 'text_prep'],\n",
      "      dtype='object')\n"
     ]
    }
   ],
   "source": [
    "print(test_unseen_data.shape)\n",
    "print(test_unseen_data.columns)"
   ]
  },
  {
   "cell_type": "code",
   "execution_count": 113,
   "metadata": {},
   "outputs": [],
   "source": [
    "test_unseen_data.to_pickle(\"data/rec_task_test_unseen_users.pkl\")"
   ]
  },
  {
   "cell_type": "code",
   "execution_count": null,
   "metadata": {},
   "outputs": [],
   "source": []
  }
 ],
 "metadata": {
  "kernelspec": {
   "display_name": "Python 3 (ipykernel)",
   "language": "python",
   "name": "python3"
  },
  "language_info": {
   "codemirror_mode": {
    "name": "ipython",
    "version": 3
   },
   "file_extension": ".py",
   "mimetype": "text/x-python",
   "name": "python",
   "nbconvert_exporter": "python",
   "pygments_lexer": "ipython3",
   "version": "3.8.5"
  }
 },
 "nbformat": 4,
 "nbformat_minor": 4
}
