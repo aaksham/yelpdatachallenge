{
 "cells": [
  {
   "cell_type": "code",
   "execution_count": 72,
   "id": "58fb62ba",
   "metadata": {},
   "outputs": [],
   "source": [
    "import os\n",
    "import json\n",
    "import numpy\n",
    "import pandas"
   ]
  },
  {
   "cell_type": "code",
   "execution_count": 2,
   "id": "30c8d784",
   "metadata": {},
   "outputs": [],
   "source": [
    "restids=pandas.read_pickle(\"data/restaurants.pkl\")"
   ]
  },
  {
   "cell_type": "code",
   "execution_count": 3,
   "id": "9a8e3204",
   "metadata": {},
   "outputs": [],
   "source": [
    "td=pandas.read_pickle(\"data/train_data.pkl\")\n",
    "td2=pandas.read_pickle(\"data/test_data.pkl\")\n",
    "vd=pandas.read_pickle(\"data/val_data.pkl\")"
   ]
  },
  {
   "cell_type": "code",
   "execution_count": 5,
   "id": "90485f9d",
   "metadata": {},
   "outputs": [
    {
     "name": "stdout",
     "output_type": "stream",
     "text": [
      "Index(['business_id', 'name', 'pricerange', 'review_count', 'all_reviews',\n",
      "       'stars_sum', 'useful_sum', 'funny_sum', 'cool_sum'],\n",
      "      dtype='object') (86462, 9)\n",
      "Index(['business_id', 'name', 'pricerange', 'review_count', 'all_reviews',\n",
      "       'stars_sum', 'useful_sum', 'funny_sum', 'cool_sum'],\n",
      "      dtype='object') (10809, 9)\n",
      "Index(['business_id', 'name', 'pricerange', 'review_count', 'all_reviews',\n",
      "       'stars_sum', 'useful_sum', 'funny_sum', 'cool_sum'],\n",
      "      dtype='object') (10808, 9)\n"
     ]
    }
   ],
   "source": [
    "print(td.columns,td.shape)\n",
    "print(td2.columns,td2.shape)\n",
    "print(vd.columns,vd.shape)"
   ]
  },
  {
   "cell_type": "code",
   "execution_count": 6,
   "id": "044da834",
   "metadata": {},
   "outputs": [
    {
     "name": "stdout",
     "output_type": "stream",
     "text": [
      "Index(['business_id', 'name', 'pricerange', 'review_count', 'all_reviews',\n",
      "       'stars_sum', 'useful_sum', 'funny_sum', 'cool_sum'],\n",
      "      dtype='object') (108079, 9)\n"
     ]
    }
   ],
   "source": [
    "reviews_prepped=pandas.concat([td,td2,vd],ignore_index=True)\n",
    "print(reviews_prepped.columns,reviews_prepped.shape)"
   ]
  },
  {
   "cell_type": "code",
   "execution_count": 10,
   "id": "62b247e7",
   "metadata": {},
   "outputs": [
    {
     "name": "stdout",
     "output_type": "stream",
     "text": [
      "(108079, 9)\n"
     ]
    }
   ],
   "source": [
    "print(reviews_prepped.shape)"
   ]
  },
  {
   "cell_type": "code",
   "execution_count": null,
   "id": "a70f5e5d",
   "metadata": {},
   "outputs": [],
   "source": [
    "print(reviews_prepped.iloc[0]['all_reviews'])"
   ]
  },
  {
   "cell_type": "code",
   "execution_count": 8,
   "id": "adb798c6",
   "metadata": {},
   "outputs": [
    {
     "name": "stdout",
     "output_type": "stream",
     "text": [
      "Index(['business_id', 'name', 'city', 'stars', 'review_count', 'categories',\n",
      "       'hours', 'keep'],\n",
      "      dtype='object')\n"
     ]
    }
   ],
   "source": [
    "print(restids.columns)"
   ]
  },
  {
   "cell_type": "code",
   "execution_count": 11,
   "id": "0f9728a5",
   "metadata": {},
   "outputs": [
    {
     "name": "stdout",
     "output_type": "stream",
     "text": [
      "Index(['business_id', 'name_x', 'city', 'stars', 'review_count_x',\n",
      "       'categories', 'hours', 'keep', 'name_y', 'pricerange', 'review_count_y',\n",
      "       'all_reviews', 'stars_sum', 'useful_sum', 'funny_sum', 'cool_sum'],\n",
      "      dtype='object')\n",
      "(42237, 16)\n"
     ]
    }
   ],
   "source": [
    "rest_revs=pandas.merge(restids,reviews_prepped,how='left',\n",
    "                                 left_on='business_id',right_on='business_id')\n",
    "print(rest_revs.columns)\n",
    "print(rest_revs.shape)"
   ]
  },
  {
   "cell_type": "code",
   "execution_count": 12,
   "id": "e288659f",
   "metadata": {},
   "outputs": [],
   "source": [
    "rest_revs=rest_revs.drop(['categories','hours','keep','pricerange','review_count_y'],axis=1)"
   ]
  },
  {
   "cell_type": "code",
   "execution_count": 13,
   "id": "b9b71645",
   "metadata": {},
   "outputs": [
    {
     "data": {
      "text/plain": [
       "5613"
      ]
     },
     "execution_count": 13,
     "metadata": {},
     "output_type": "execute_result"
    }
   ],
   "source": [
    "rest_revs['name_y'].isna().sum()"
   ]
  },
  {
   "cell_type": "code",
   "execution_count": 18,
   "id": "f972e1cf",
   "metadata": {},
   "outputs": [
    {
     "name": "stdout",
     "output_type": "stream",
     "text": [
      "(5613,)\n",
      "17    X8mtoSxY8whtmbDlj0D3Aw\n",
      "21    OezwOIJ0_62Mj8MLdkGRAw\n",
      "32    jwHtNvHBPafiAwM92jM8yA\n",
      "40    4n81G-pmC3rfhmaPsbwYKg\n",
      "54    4Rp1y8L_zecjHt6AvKtekg\n",
      "Name: business_id, dtype: object\n"
     ]
    }
   ],
   "source": [
    "rem_restids=rest_revs[rest_revs['name_y'].isna()]['business_id']\n",
    "print(rem_restids.shape)\n",
    "print(rem_restids[:5])"
   ]
  },
  {
   "cell_type": "code",
   "execution_count": 14,
   "id": "6fae88f7",
   "metadata": {},
   "outputs": [],
   "source": [
    "def read_data(datafilename):\n",
    "    data_file = open(datafilename,'r')\n",
    "    data = []\n",
    "    for line in data_file:\n",
    "        data.append(json.loads(line))\n",
    "    data_file.close()\n",
    "    return data"
   ]
  },
  {
   "cell_type": "code",
   "execution_count": 15,
   "id": "e9d6a522",
   "metadata": {},
   "outputs": [
    {
     "name": "stdout",
     "output_type": "stream",
     "text": [
      "(6685900, 9)\n",
      "Index(['review_id', 'user_id', 'business_id', 'stars', 'useful', 'funny',\n",
      "       'cool', 'text', 'date'],\n",
      "      dtype='object')\n"
     ]
    }
   ],
   "source": [
    "reviews='data/yelp_academic_dataset_review.json'\n",
    "raw=read_data(reviews)\n",
    "df_ = pandas.json_normalize(raw,max_level=1)\n",
    "print(df_.shape)\n",
    "print(df_.columns)"
   ]
  },
  {
   "cell_type": "code",
   "execution_count": 19,
   "id": "651c054f",
   "metadata": {},
   "outputs": [
    {
     "name": "stdout",
     "output_type": "stream",
     "text": [
      "CPU times: user 988 ms, sys: 1.13 s, total: 2.11 s\n",
      "Wall time: 2.31 s\n"
     ]
    }
   ],
   "source": [
    "%%time\n",
    "revdf=df_[df_['business_id'].isin(rem_restids)]"
   ]
  },
  {
   "cell_type": "code",
   "execution_count": 42,
   "id": "196ad5d9",
   "metadata": {},
   "outputs": [
    {
     "name": "stdout",
     "output_type": "stream",
     "text": [
      "                     review_id                 user_id  \\\n",
      "113192  7eg1WQOiy3H8dzNWcUntsA  pW9LvtC-hZ0PRAOUn7aZ2A   \n",
      "254905  lH3WcO_PqVlyx1xcBCZLBw  Uw-v0UN_g_oFvldC7HWXMg   \n",
      "374174  mIwRo2uVpjR2vXs3h-d9ug  XybrvLEZUD6lJpsy5P3gSA   \n",
      "644727  9Ziz9X1WQ7I4bU4ShdNbgA  GVn_BhCNwJsQzvPy5ECYvA   \n",
      "\n",
      "                   business_id  stars  useful  funny  cool  \\\n",
      "113192  X8mtoSxY8whtmbDlj0D3Aw    2.0       1      1     1   \n",
      "254905  X8mtoSxY8whtmbDlj0D3Aw    3.0       0      0     0   \n",
      "374174  X8mtoSxY8whtmbDlj0D3Aw    1.0       1      0     0   \n",
      "644727  X8mtoSxY8whtmbDlj0D3Aw    1.0       0      1     0   \n",
      "\n",
      "                                                     text  \\\n",
      "113192  It was our first night/ day in Vegas. Kinda ha...   \n",
      "254905  I'm not sure where to start. This place remind...   \n",
      "374174  Worst Chinese buffet I've had in town. Got a f...   \n",
      "644727  too easy. DO NOT eat here. \\n\\nits like a big ...   \n",
      "\n",
      "                       date               date2  \n",
      "113192  2008-05-15 01:26:07 2008-05-15 01:26:07  \n",
      "254905  2008-01-16 22:49:01 2008-01-16 22:49:01  \n",
      "374174  2008-06-28 01:13:31 2008-06-28 01:13:31  \n",
      "644727  2009-02-10 20:20:11 2009-02-10 20:20:11  \n"
     ]
    }
   ],
   "source": [
    "chkrow=revdf[revdf['business_id']=='X8mtoSxY8whtmbDlj0D3Aw']\n",
    "print(chkrow)"
   ]
  },
  {
   "cell_type": "code",
   "execution_count": 20,
   "id": "b5f8a409",
   "metadata": {},
   "outputs": [
    {
     "name": "stdout",
     "output_type": "stream",
     "text": [
      "(49271, 9)\n",
      "Index(['review_id', 'user_id', 'business_id', 'stars', 'useful', 'funny',\n",
      "       'cool', 'text', 'date'],\n",
      "      dtype='object')\n"
     ]
    }
   ],
   "source": [
    "print(revdf.shape)\n",
    "print(revdf.columns)"
   ]
  },
  {
   "cell_type": "code",
   "execution_count": 45,
   "id": "480ebb39",
   "metadata": {},
   "outputs": [
    {
     "name": "stdout",
     "output_type": "stream",
     "text": [
      "(47871, 10)\n",
      "Index(['review_id', 'user_id', 'business_id', 'stars', 'useful', 'funny',\n",
      "       'cool', 'text', 'date', 'date2'],\n",
      "      dtype='object')\n"
     ]
    }
   ],
   "source": [
    "revdf['date2']=pandas.to_datetime(revdf['date'])\n",
    "rev_=revdf.sort_values(by=['useful','date2'],ascending=[False,False])\n",
    "rev_sorted=rev_.groupby('business_id').head(100)\n",
    "print(rev_sorted.shape)\n",
    "print(rev_sorted.columns)"
   ]
  },
  {
   "cell_type": "code",
   "execution_count": 46,
   "id": "c7b46fe8",
   "metadata": {},
   "outputs": [
    {
     "name": "stdout",
     "output_type": "stream",
     "text": [
      "                     review_id                 user_id  \\\n",
      "374174  mIwRo2uVpjR2vXs3h-d9ug  XybrvLEZUD6lJpsy5P3gSA   \n",
      "113192  7eg1WQOiy3H8dzNWcUntsA  pW9LvtC-hZ0PRAOUn7aZ2A   \n",
      "644727  9Ziz9X1WQ7I4bU4ShdNbgA  GVn_BhCNwJsQzvPy5ECYvA   \n",
      "254905  lH3WcO_PqVlyx1xcBCZLBw  Uw-v0UN_g_oFvldC7HWXMg   \n",
      "\n",
      "                   business_id  stars  useful  funny  cool  \\\n",
      "374174  X8mtoSxY8whtmbDlj0D3Aw    1.0       1      0     0   \n",
      "113192  X8mtoSxY8whtmbDlj0D3Aw    2.0       1      1     1   \n",
      "644727  X8mtoSxY8whtmbDlj0D3Aw    1.0       0      1     0   \n",
      "254905  X8mtoSxY8whtmbDlj0D3Aw    3.0       0      0     0   \n",
      "\n",
      "                                                     text  \\\n",
      "374174  Worst Chinese buffet I've had in town. Got a f...   \n",
      "113192  It was our first night/ day in Vegas. Kinda ha...   \n",
      "644727  too easy. DO NOT eat here. \\n\\nits like a big ...   \n",
      "254905  I'm not sure where to start. This place remind...   \n",
      "\n",
      "                       date               date2  \n",
      "374174  2008-06-28 01:13:31 2008-06-28 01:13:31  \n",
      "113192  2008-05-15 01:26:07 2008-05-15 01:26:07  \n",
      "644727  2009-02-10 20:20:11 2009-02-10 20:20:11  \n",
      "254905  2008-01-16 22:49:01 2008-01-16 22:49:01  \n"
     ]
    }
   ],
   "source": [
    "chkrow=rev_sorted[rev_sorted['business_id']=='X8mtoSxY8whtmbDlj0D3Aw']\n",
    "print(chkrow)"
   ]
  },
  {
   "cell_type": "code",
   "execution_count": 24,
   "id": "e896f674",
   "metadata": {},
   "outputs": [
    {
     "name": "stderr",
     "output_type": "stream",
     "text": [
      "[nltk_data] Downloading package wordnet to /Users/aaksha/nltk_data...\n",
      "[nltk_data]   Package wordnet is already up-to-date!\n"
     ]
    },
    {
     "data": {
      "text/plain": [
       "True"
      ]
     },
     "execution_count": 24,
     "metadata": {},
     "output_type": "execute_result"
    }
   ],
   "source": [
    "import re\n",
    "import nltk\n",
    "#nltk.download('stopwords')\n",
    "from nltk.corpus import stopwords\n",
    "nltk.download('wordnet')"
   ]
  },
  {
   "cell_type": "code",
   "execution_count": 25,
   "id": "f1f84b27",
   "metadata": {},
   "outputs": [],
   "source": [
    "REPLACE_BY_SPACE_RE = re.compile('[/(){}\\[\\]\\|@,;]')\n",
    "BAD_SYMBOLS_RE = re.compile('[^0-9a-z #+_]')\n",
    "STOPWORDS = set(stopwords.words('english'))\n",
    "stemmer = nltk.stem.WordNetLemmatizer()\n",
    "def text_prepare(text):\n",
    "    \"\"\"\n",
    "        text: a string\n",
    "        \n",
    "        return: modified initial string\n",
    "    \"\"\"\n",
    "    text = text.lower() # lowercase text\n",
    "    text = re.sub(REPLACE_BY_SPACE_RE,' ',text) # replace REPLACE_BY_SPACE_RE symbols by space in text\n",
    "    text = re.sub(BAD_SYMBOLS_RE,' ',text) # delete symbols which are in BAD_SYMBOLS_RE from text\n",
    "    text_words=text.split(' ')\n",
    "    #lowercase,remove urls,delete stopwords and blanks\n",
    "    resultwords= []\n",
    "    for word in text_words:\n",
    "        if len(word)<=0: continue\n",
    "        if word in STOPWORDS: continue\n",
    "        if word.find('http')==0: word='url'\n",
    "        resultwords.append(word)\n",
    "        \n",
    "    #resultwords  = [word for word in text_words if word.lower() not in STOPWORDS and len(word)>0] # delete stopwords from text\n",
    "    final_words = [stemmer.lemmatize(token) for token in resultwords] #lemmatize words\n",
    "    text = ' '.join(final_words) \n",
    "    return text\n"
   ]
  },
  {
   "cell_type": "code",
   "execution_count": 47,
   "id": "21d5f032",
   "metadata": {},
   "outputs": [
    {
     "name": "stdout",
     "output_type": "stream",
     "text": [
      "CPU times: user 8.87 s, sys: 77.4 ms, total: 8.95 s\n",
      "Wall time: 8.97 s\n"
     ]
    }
   ],
   "source": [
    "%%time\n",
    "rev_sorted['text_prep']=rev_sorted['text'].apply(text_prepare)"
   ]
  },
  {
   "cell_type": "code",
   "execution_count": 48,
   "id": "5d1ce7b7",
   "metadata": {},
   "outputs": [],
   "source": [
    "rev_sorted=rev_sorted.drop(['text'],axis=1)"
   ]
  },
  {
   "cell_type": "code",
   "execution_count": 49,
   "id": "ed8fac01",
   "metadata": {},
   "outputs": [
    {
     "name": "stdout",
     "output_type": "stream",
     "text": [
      "                     review_id                 user_id  \\\n",
      "374174  mIwRo2uVpjR2vXs3h-d9ug  XybrvLEZUD6lJpsy5P3gSA   \n",
      "113192  7eg1WQOiy3H8dzNWcUntsA  pW9LvtC-hZ0PRAOUn7aZ2A   \n",
      "644727  9Ziz9X1WQ7I4bU4ShdNbgA  GVn_BhCNwJsQzvPy5ECYvA   \n",
      "254905  lH3WcO_PqVlyx1xcBCZLBw  Uw-v0UN_g_oFvldC7HWXMg   \n",
      "\n",
      "                   business_id  stars  useful  funny  cool  \\\n",
      "374174  X8mtoSxY8whtmbDlj0D3Aw    1.0       1      0     0   \n",
      "113192  X8mtoSxY8whtmbDlj0D3Aw    2.0       1      1     1   \n",
      "644727  X8mtoSxY8whtmbDlj0D3Aw    1.0       0      1     0   \n",
      "254905  X8mtoSxY8whtmbDlj0D3Aw    3.0       0      0     0   \n",
      "\n",
      "                       date               date2  \\\n",
      "374174  2008-06-28 01:13:31 2008-06-28 01:13:31   \n",
      "113192  2008-05-15 01:26:07 2008-05-15 01:26:07   \n",
      "644727  2009-02-10 20:20:11 2009-02-10 20:20:11   \n",
      "254905  2008-01-16 22:49:01 2008-01-16 22:49:01   \n",
      "\n",
      "                                                text_prep  \n",
      "374174  worst chinese buffet town got flyer mail pictu...  \n",
      "113192  first night day vega kinda hard tell time day ...  \n",
      "644727  easy eat like big buffet full nothing old asia...  \n",
      "254905  sure start place reminds college day food kind...  \n"
     ]
    }
   ],
   "source": [
    "chkrow=rev_sorted[rev_sorted['business_id']=='X8mtoSxY8whtmbDlj0D3Aw']\n",
    "print(chkrow)"
   ]
  },
  {
   "cell_type": "code",
   "execution_count": 50,
   "id": "80b75b76",
   "metadata": {},
   "outputs": [
    {
     "name": "stdout",
     "output_type": "stream",
     "text": [
      "(5613, 6)\n",
      "Index(['business_id', 'all_reviews', 'stars_sum', 'useful_sum', 'funny_sum',\n",
      "       'cool_sum'],\n",
      "      dtype='object')\n",
      "CPU times: user 1.94 s, sys: 2.7 s, total: 4.65 s\n",
      "Wall time: 4.91 s\n"
     ]
    }
   ],
   "source": [
    "%%time\n",
    "rev_sorted['all_reviews']=rev_sorted.groupby(['business_id'])['text_prep'].transform(lambda x: '\\t'.join(x))\n",
    "rev_sorted['stars_sum']=rev_sorted.groupby(['business_id'])['stars'].transform('sum')\n",
    "rev_sorted['useful_sum']=rev_sorted.groupby(['business_id'])['useful'].transform('sum')\n",
    "rev_sorted['funny_sum']=rev_sorted.groupby(['business_id'])['funny'].transform('sum')\n",
    "rev_sorted['cool_sum']=rev_sorted.groupby(['business_id'])['cool'].transform('sum')\n",
    "rev_sorted=rev_sorted.drop(['stars','useful','funny','cool','date','date2','review_id','user_id','text_prep'],axis=1)\n",
    "rev_sorted.drop_duplicates(inplace=True)\n",
    "print(rev_sorted.shape)\n",
    "print(rev_sorted.columns)"
   ]
  },
  {
   "cell_type": "code",
   "execution_count": 51,
   "id": "29330c78",
   "metadata": {},
   "outputs": [
    {
     "name": "stdout",
     "output_type": "stream",
     "text": [
      "                   business_id  \\\n",
      "374174  X8mtoSxY8whtmbDlj0D3Aw   \n",
      "\n",
      "                                              all_reviews  stars_sum  \\\n",
      "374174  worst chinese buffet town got flyer mail pictu...        7.0   \n",
      "\n",
      "        useful_sum  funny_sum  cool_sum  \n",
      "374174           2          2         1  \n"
     ]
    }
   ],
   "source": [
    "chkrow=rev_sorted[rev_sorted['business_id']=='X8mtoSxY8whtmbDlj0D3Aw']\n",
    "print(chkrow)"
   ]
  },
  {
   "cell_type": "code",
   "execution_count": 29,
   "id": "79ead41b",
   "metadata": {},
   "outputs": [
    {
     "name": "stdout",
     "output_type": "stream",
     "text": [
      "Index(['business_id', 'name_x', 'city', 'stars', 'review_count_x', 'name_y',\n",
      "       'all_reviews', 'stars_sum', 'useful_sum', 'funny_sum', 'cool_sum'],\n",
      "      dtype='object')\n",
      "(42237, 11)\n"
     ]
    }
   ],
   "source": [
    "print(rest_revs.columns)\n",
    "print(rest_revs.shape)"
   ]
  },
  {
   "cell_type": "code",
   "execution_count": 54,
   "id": "bc60b369",
   "metadata": {},
   "outputs": [
    {
     "name": "stdout",
     "output_type": "stream",
     "text": [
      "Index(['business_id', 'name_x', 'city', 'stars', 'review_count_x', 'name_y',\n",
      "       'all_reviews', 'stars_sum', 'useful_sum', 'funny_sum', 'cool_sum'],\n",
      "      dtype='object')\n"
     ]
    }
   ],
   "source": [
    "#rest_revs.set_index('business_id',inplace=True)\n",
    "#rev_sorted.set_index('business_id',inplace=True)\n",
    "#rest_revs.reset_index(inplace=True)\n",
    "print(rest_revs.columns)"
   ]
  },
  {
   "cell_type": "code",
   "execution_count": 36,
   "id": "88c7ce6d",
   "metadata": {},
   "outputs": [
    {
     "name": "stdout",
     "output_type": "stream",
     "text": [
      "Index(['all_reviews', 'stars_sum', 'useful_sum', 'funny_sum', 'cool_sum'], dtype='object')\n",
      "all_reviews    u two kind people jimmy john jj lover jj hater...\n",
      "stars_sum                                                   34.0\n",
      "useful_sum                                                   221\n",
      "funny_sum                                                    169\n",
      "cool_sum                                                     225\n",
      "Name: hT4S-jtRapUap_kzygb_Hw, dtype: object\n"
     ]
    }
   ],
   "source": [
    "print(rev_sorted.columns)\n",
    "print(rev_sorted.iloc[0])"
   ]
  },
  {
   "cell_type": "code",
   "execution_count": 84,
   "id": "1093b0e6",
   "metadata": {},
   "outputs": [
    {
     "name": "stdout",
     "output_type": "stream",
     "text": [
      "Done 1000\n",
      "Done 2000\n",
      "Done 3000\n",
      "Done 4000\n",
      "Done 5000\n"
     ]
    }
   ],
   "source": [
    "counter=0\n",
    "for restid in rem_restids:\n",
    "    #print(restid)\n",
    "    #new_data=rev_sorted[restid]\n",
    "    new_data=rev_sorted[rev_sorted['business_id']==restid]\n",
    "    #print(new_data)\n",
    "    old_data_index=rest_revs[rest_revs['business_id']==restid].index.to_list()[0]\n",
    "    #print(old_data_index)\n",
    "    old_data=rest_revs.loc[old_data_index]\n",
    "    #print(old_data)\n",
    "    rest_revs.at[old_data_index,'all_reviews']=new_data.iloc[0]['all_reviews']\n",
    "    rest_revs.at[old_data_index,'stars_sum']=new_data.iloc[0]['stars_sum']\n",
    "    rest_revs.at[old_data_index,'useful_sum']=new_data.iloc[0]['useful_sum']\n",
    "    rest_revs.at[old_data_index,'funny_sum']=new_data.iloc[0]['funny_sum']\n",
    "    rest_revs.at[old_data_index,'cool_sum']=new_data.iloc[0]['cool_sum']\n",
    "    counter+=1\n",
    "    if counter%1000==0:\n",
    "        print(\"Done \"+str(counter))\n",
    "    #print(rest_revs.loc[old_data_index])\n",
    "    #break"
   ]
  },
  {
   "cell_type": "code",
   "execution_count": 68,
   "id": "71649e6c",
   "metadata": {},
   "outputs": [
    {
     "name": "stdout",
     "output_type": "stream",
     "text": [
      "0\n",
      "(42237, 10)\n",
      "Index(['business_id', 'name_x', 'city', 'business_stars', 'review_count',\n",
      "       'all_reviews', 'stars_sum', 'useful_sum', 'funny_sum', 'cool_sum'],\n",
      "      dtype='object')\n",
      "(42237, 10)\n",
      "Index(['business_id', 'name', 'city', 'business_stars', 'review_count',\n",
      "       'all_reviews', 'stars_sum', 'useful_sum', 'funny_sum', 'cool_sum'],\n",
      "      dtype='object')\n"
     ]
    }
   ],
   "source": [
    "print(rest_revs['stars_sum'].isna().sum())\n",
    "print(rest_revs.shape)\n",
    "print(rest_revs.columns)\n",
    "rest_revs=rest_revs.drop(['name_y'],axis=1)\n",
    "rest_revs=rest_revs.rename({'stars':'business_stars','review_count_x':'review_count',\n",
    "                            'name_x':'name'},axis=1)\n",
    "print(rest_revs.shape)\n",
    "print(rest_revs.columns)"
   ]
  },
  {
   "cell_type": "code",
   "execution_count": 83,
   "id": "53920e5f",
   "metadata": {},
   "outputs": [
    {
     "name": "stdout",
     "output_type": "stream",
     "text": [
      "<class 'str'>\n"
     ]
    }
   ],
   "source": [
    "#for debugging, skip\n",
    "for i in range(rest_revs.shape[0]):\n",
    "    t=rest_revs.iloc[i]['all_reviews']\n",
    "    if type(t)!=type('abc'):\n",
    "        print(rest_revs.iloc[i])\n",
    "    break"
   ]
  },
  {
   "cell_type": "code",
   "execution_count": 69,
   "id": "899b3708",
   "metadata": {},
   "outputs": [
    {
     "name": "stdout",
     "output_type": "stream",
     "text": [
      "['0', '1', '2', '3', '4', '5', '6', '7', '8', '9', '10', '11', '12', '13', '14', '15', '16', '17', '18', '19', '20', '21', '22', '23', '24', '25', '26', '27', '28', '29', '30', '31', '32', '33', '34', '35', '36', '37', '38', '39', '40', '41', '42', '43', '44', '45', '46', '47', '48', '49']\n",
      "(237728, 51)\n"
     ]
    }
   ],
   "source": [
    "#load embeddings\n",
    "dims=50\n",
    "dimheader=[]\n",
    "for i in range(dims):\n",
    "    dimheader.append(str(i))\n",
    "print(dimheader)\n",
    "embeddingsdf=pandas.read_table('models/embeddings/model.tsv',header=None,names=['word']+dimheader)\n",
    "print(embeddingsdf.shape)\n",
    "#create numpy array of embeddings\n",
    "onlyembeddings=embeddingsdf.drop(['word'],axis=1).to_numpy()\n",
    "#index vocab for faster processing\n",
    "word2index={}\n",
    "index2word={}\n",
    "for i in range(embeddingsdf.shape[0]):\n",
    "    word=embeddingsdf.iloc[i]['word']\n",
    "    word2index[word]=i\n",
    "    index2word[i]=word"
   ]
  },
  {
   "cell_type": "code",
   "execution_count": 76,
   "id": "43c867fa",
   "metadata": {},
   "outputs": [],
   "source": [
    "def construct_user_vector(ut):  \n",
    "    utsents=ut.split('\\t')\n",
    "    utwords=[]\n",
    "    for sent in utsents:\n",
    "        words=sent.split(' ')\n",
    "        utwords+=words\n",
    "    utids=[]\n",
    "    for word in utwords:\n",
    "        try:\n",
    "            wi=word2index[word]\n",
    "        except:\n",
    "            continue\n",
    "        utids.append(wi)\n",
    "    embeddingmatrix=onlyembeddings[[utids],:]\n",
    "    embeddingmatrix=numpy.reshape(embeddingmatrix,(len(utids),onlyembeddings.shape[1]))\n",
    "    user_embedding=numpy.mean(embeddingmatrix,axis=0)\n",
    "    return(user_embedding)"
   ]
  },
  {
   "cell_type": "code",
   "execution_count": null,
   "id": "5270c19e",
   "metadata": {},
   "outputs": [],
   "source": [
    "t=rest_revs.iloc[0]['all_reviews']\n",
    "print(rest_revs.at[374172,'all_reviews'])\n",
    "# tv=construct_user_vector(t)\n",
    "# print(tv)"
   ]
  },
  {
   "cell_type": "code",
   "execution_count": 85,
   "id": "e9e024a7",
   "metadata": {},
   "outputs": [
    {
     "name": "stdout",
     "output_type": "stream",
     "text": [
      "(42237, 11)\n",
      "Index(['business_id', 'name', 'city', 'business_stars', 'review_count',\n",
      "       'all_reviews', 'stars_sum', 'useful_sum', 'funny_sum', 'cool_sum',\n",
      "       'business_vector'],\n",
      "      dtype='object')\n"
     ]
    }
   ],
   "source": [
    "rest_revs['business_vector']=rest_revs['all_reviews'].apply(construct_user_vector)\n",
    "print(rest_revs.shape)\n",
    "print(rest_revs.columns)"
   ]
  },
  {
   "cell_type": "code",
   "execution_count": 86,
   "id": "a19cfd6d",
   "metadata": {},
   "outputs": [
    {
     "name": "stdout",
     "output_type": "stream",
     "text": [
      "(42237, 10)\n",
      "Index(['business_id', 'name', 'city', 'business_stars', 'review_count',\n",
      "       'stars_sum', 'useful_sum', 'funny_sum', 'cool_sum', 'business_vector'],\n",
      "      dtype='object')\n"
     ]
    }
   ],
   "source": [
    "rest_trove=rest_revs.drop(['all_reviews'],axis=1)\n",
    "print(rest_trove.shape)\n",
    "print(rest_trove.columns)"
   ]
  },
  {
   "cell_type": "code",
   "execution_count": 87,
   "id": "9ef0b4e3",
   "metadata": {},
   "outputs": [],
   "source": [
    "rest_trove.to_pickle('models/restaurant_trove.pkl')"
   ]
  },
  {
   "cell_type": "code",
   "execution_count": null,
   "id": "0df4c05f",
   "metadata": {},
   "outputs": [],
   "source": []
  }
 ],
 "metadata": {
  "kernelspec": {
   "display_name": "Python 3 (ipykernel)",
   "language": "python",
   "name": "python3"
  },
  "language_info": {
   "codemirror_mode": {
    "name": "ipython",
    "version": 3
   },
   "file_extension": ".py",
   "mimetype": "text/x-python",
   "name": "python",
   "nbconvert_exporter": "python",
   "pygments_lexer": "ipython3",
   "version": "3.8.5"
  }
 },
 "nbformat": 4,
 "nbformat_minor": 5
}
