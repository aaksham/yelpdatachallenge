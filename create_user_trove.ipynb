{
 "cells": [
  {
   "cell_type": "markdown",
   "id": "99d8a761",
   "metadata": {},
   "source": [
    "# Sections\n",
    "## - Load all the pre-processed user review text data\n",
    "## - Group \"Seen\" users text data correctly\n",
    "## - Test \"construct_user_vector\" function\n",
    "## - Apply \"construct_user_vector\" and store for all users"
   ]
  },
  {
   "cell_type": "code",
   "execution_count": 1,
   "id": "6904a917",
   "metadata": {},
   "outputs": [],
   "source": [
    "import numpy\n",
    "import pandas"
   ]
  },
  {
   "cell_type": "markdown",
   "id": "72d13a08",
   "metadata": {},
   "source": [
    "## Load all the pre-processed user review text data"
   ]
  },
  {
   "cell_type": "code",
   "execution_count": 3,
   "id": "1407aceb",
   "metadata": {},
   "outputs": [],
   "source": [
    "ts1=pandas.read_pickle('data/rec_task_train_set1.pkl')\n",
    "ts2=pandas.read_pickle('data/rec_task_train_set2.pkl')\n",
    "ts3=pandas.read_pickle('data/rec_task_train_set3.pkl')\n",
    "unseen=pandas.read_pickle('data/rec_task_test_unseen_users.pkl')\n",
    "seen=pandas.read_pickle('data/rec_task_test_seen_users.pkl')"
   ]
  },
  {
   "cell_type": "code",
   "execution_count": 4,
   "id": "b8af6712",
   "metadata": {},
   "outputs": [
    {
     "name": "stdout",
     "output_type": "stream",
     "text": [
      "Index(['user_id', 'train_data_text'], dtype='object')\n",
      "Index(['user_id', 'train_data_text'], dtype='object')\n",
      "Index(['user_id', 'train_data_text'], dtype='object')\n",
      "Index(['review_id', 'user_id', 'business_id', 'review_stars', 'useful',\n",
      "       'funny', 'cool', 'date', 'name', 'city', 'business_stars',\n",
      "       'review_count', 'is_open', 'categories', 'text_prep'],\n",
      "      dtype='object')\n",
      "Index(['review_id', 'user_id', 'business_id', 'review_stars', 'useful',\n",
      "       'funny', 'cool', 'date', 'name', 'city', 'business_stars',\n",
      "       'review_count', 'is_open', 'categories', 'text_prep'],\n",
      "      dtype='object')\n"
     ]
    }
   ],
   "source": [
    "print(ts1.columns)\n",
    "print(ts2.columns)\n",
    "print(ts3.columns)\n",
    "print(unseen.columns)\n",
    "print(seen.columns)"
   ]
  },
  {
   "cell_type": "code",
   "execution_count": 6,
   "id": "ba33f6eb",
   "metadata": {},
   "outputs": [
    {
     "name": "stdout",
     "output_type": "stream",
     "text": [
      "(25040, 2)\n",
      "Index(['user_id', 'user_text'], dtype='object')\n"
     ]
    }
   ],
   "source": [
    "unseen['user_text']=unseen.groupby(['user_id'])['text_prep'].transform(lambda x: '\\t'.join(x))\n",
    "unseen_sub=unseen.drop(['review_id','business_id','review_stars','useful','funny','cool',\n",
    "                                'date','name','city','business_stars','review_count','is_open',\n",
    "                                'categories','text_prep'],axis=1)\n",
    "unseen_sub.drop_duplicates(inplace=True)\n",
    "print(unseen_sub.shape)\n",
    "print(unseen_sub.columns)"
   ]
  },
  {
   "cell_type": "code",
   "execution_count": 7,
   "id": "3cac6aee",
   "metadata": {},
   "outputs": [
    {
     "name": "stdout",
     "output_type": "stream",
     "text": [
      "(17017, 2)\n",
      "Index(['user_id', 'user_text'], dtype='object')\n"
     ]
    }
   ],
   "source": [
    "seen['user_text']=seen.groupby(['user_id'])['text_prep'].transform(lambda x: '\\t'.join(x))\n",
    "seen_sub=seen.drop(['review_id','business_id','review_stars','useful','funny','cool',\n",
    "                                'date','name','city','business_stars','review_count','is_open',\n",
    "                                'categories','text_prep'],axis=1)\n",
    "seen_sub.drop_duplicates(inplace=True)\n",
    "print(seen_sub.shape)\n",
    "print(seen_sub.columns)"
   ]
  },
  {
   "cell_type": "code",
   "execution_count": 10,
   "id": "84ccc2a3",
   "metadata": {},
   "outputs": [],
   "source": [
    "ts1=ts1.rename({'train_data_text':'user_text'},axis=1)\n",
    "ts2=ts2.rename({'train_data_text':'user_text'},axis=1)\n",
    "ts3=ts3.rename({'train_data_text':'user_text'},axis=1)"
   ]
  },
  {
   "cell_type": "code",
   "execution_count": 12,
   "id": "b03a5c5c",
   "metadata": {},
   "outputs": [
    {
     "name": "stdout",
     "output_type": "stream",
     "text": [
      "(9614, 2)\n"
     ]
    }
   ],
   "source": [
    "print(ts3.shape)"
   ]
  },
  {
   "cell_type": "code",
   "execution_count": 13,
   "id": "332bc5ff",
   "metadata": {},
   "outputs": [
    {
     "name": "stdout",
     "output_type": "stream",
     "text": [
      "17017\n"
     ]
    }
   ],
   "source": [
    "print(seen_sub['user_id'].nunique())"
   ]
  },
  {
   "cell_type": "markdown",
   "id": "c1c80c97",
   "metadata": {},
   "source": [
    "### Group \"Seen\" users text data correctly"
   ]
  },
  {
   "cell_type": "code",
   "execution_count": 11,
   "id": "b9a8ca2a",
   "metadata": {},
   "outputs": [
    {
     "name": "stdout",
     "output_type": "stream",
     "text": [
      "(26631, 2)\n",
      "Index(['user_id', 'user_text'], dtype='object')\n"
     ]
    }
   ],
   "source": [
    "combine_seen_train_test=pandas.concat([seen_sub,ts3],ignore_index=True)\n",
    "print(combine_seen_train_test.shape)\n",
    "print(combine_seen_train_test.columns)"
   ]
  },
  {
   "cell_type": "code",
   "execution_count": 14,
   "id": "be453b2d",
   "metadata": {},
   "outputs": [],
   "source": [
    "combine_seen_train_test['user_text_final']=combine_seen_train_test.groupby(['user_id'])['user_text'].transform(lambda x: '\\t'.join(x))"
   ]
  },
  {
   "cell_type": "code",
   "execution_count": 16,
   "id": "fae2bc16",
   "metadata": {},
   "outputs": [],
   "source": [
    "combine_seen_train_test=combine_seen_train_test.drop(['user_text'],axis=1)\n",
    "combine_seen_train_test.drop_duplicates(inplace=True)"
   ]
  },
  {
   "cell_type": "code",
   "execution_count": 17,
   "id": "7a480f70",
   "metadata": {},
   "outputs": [
    {
     "name": "stdout",
     "output_type": "stream",
     "text": [
      "(17017, 2)\n",
      "Index(['user_id', 'user_text_final'], dtype='object')\n"
     ]
    }
   ],
   "source": [
    "print(combine_seen_train_test.shape)\n",
    "print(combine_seen_train_test.columns)"
   ]
  },
  {
   "cell_type": "code",
   "execution_count": 18,
   "id": "1161df6a",
   "metadata": {},
   "outputs": [],
   "source": [
    "combine_seen_train_test=combine_seen_train_test.rename({'user_text_final':'user_text'},axis=1)"
   ]
  },
  {
   "cell_type": "code",
   "execution_count": 19,
   "id": "0600356f",
   "metadata": {},
   "outputs": [
    {
     "name": "stdout",
     "output_type": "stream",
     "text": [
      "(1251983, 2)\n",
      "Index(['user_id', 'user_text'], dtype='object')\n"
     ]
    }
   ],
   "source": [
    "user_trove_text=pandas.concat([ts1,ts2,unseen_sub,combine_seen_train_test],ignore_index=True)\n",
    "print(user_trove_text.shape)\n",
    "print(user_trove_text.columns)"
   ]
  },
  {
   "cell_type": "code",
   "execution_count": 20,
   "id": "b78c714d",
   "metadata": {},
   "outputs": [
    {
     "name": "stdout",
     "output_type": "stream",
     "text": [
      "super friendly staff came lunch bffs 10 30am open early bonus great greasy reuben girlfriend ended eating burger knife fork ate happily generous amount fry favorite sure describe would go chip next time generally love fry place whole cooler root beer different brand course 2 additional cooler every flavor soda could think including retro soda like bubble overall nice little place seems get good traffic even 10 30 location needing lunch place like long time health food good back gotta load napkin\ttried place reading great review yelp glad really enjoyed couple beer outdoor patio beer excellent sunday morning saison midnight run coffee stout husband rating 4 star instead 5 due lackluster service bad friendly calm sunday afternoon overall definitely back look like fun place enjoy couple beer especially weather good sit outside open hopefully service bit welcoming next time regardless beer worth coming back\thappened place way 12 west new taproom gilbert stopped see like incredibly friendly young lady gave u little background shared sampling available know sitting sunny patio area enjoying breakfast wine hotdog serve food sans hotdog obviously said bring want cool recommend friend still sitting would great place hang enjoy az winter wine friend also would bring town guest glad neighborhood\tlove place read yelp finally decided give go last night disappoint fabulous friendly atmosphere personal laid back service clientele real people young party crowd happy hour last 8 great brew good wine delicious grilled cheese try one sirachi glad stopped ending staying couple hour definitely back see go place hh brilliant business plan great location excellent service hat guy\n"
     ]
    }
   ],
   "source": [
    "print(user_trove_text.iloc[1251980]['user_text'])"
   ]
  },
  {
   "cell_type": "code",
   "execution_count": null,
   "id": "21b9823f",
   "metadata": {},
   "outputs": [],
   "source": [
    "dims=50\n",
    "dimheader=[]\n",
    "for i in range(dims):\n",
    "    dimheader.append(str(i))\n",
    "print(dimheader)"
   ]
  },
  {
   "cell_type": "code",
   "execution_count": 25,
   "id": "449a4069",
   "metadata": {},
   "outputs": [
    {
     "name": "stdout",
     "output_type": "stream",
     "text": [
      "(237728, 51)\n"
     ]
    }
   ],
   "source": [
    "#load embeddings\n",
    "embeddingsdf=pandas.read_table('models/embeddings/model.tsv',header=None,names=['word']+dimheader)\n",
    "print(embeddingsdf.shape)\n",
    "#print(embeddingsdf.iloc[5])"
   ]
  },
  {
   "cell_type": "code",
   "execution_count": 26,
   "id": "1addc289",
   "metadata": {},
   "outputs": [],
   "source": [
    "onlyembeddings=embeddingsdf.drop(['word'],axis=1).to_numpy()"
   ]
  },
  {
   "cell_type": "code",
   "execution_count": 29,
   "id": "b5928dab",
   "metadata": {},
   "outputs": [
    {
     "name": "stdout",
     "output_type": "stream",
     "text": [
      "(237728, 50)\n"
     ]
    }
   ],
   "source": [
    "print(onlyembeddings.shape)"
   ]
  },
  {
   "cell_type": "code",
   "execution_count": 31,
   "id": "720262c2",
   "metadata": {},
   "outputs": [],
   "source": [
    "word2index={}\n",
    "index2word={}\n",
    "for i in range(embeddingsdf.shape[0]):\n",
    "    word=embeddingsdf.iloc[i]['word']\n",
    "    word2index[word]=i\n",
    "    index2word[i]=word"
   ]
  },
  {
   "cell_type": "code",
   "execution_count": 33,
   "id": "2b24c803",
   "metadata": {},
   "outputs": [
    {
     "name": "stdout",
     "output_type": "stream",
     "text": [
      "20\n",
      "amazing\n"
     ]
    }
   ],
   "source": [
    "print(word2index['amazing'])\n",
    "print(index2word[20])"
   ]
  },
  {
   "cell_type": "code",
   "execution_count": 56,
   "id": "7fab692f",
   "metadata": {},
   "outputs": [],
   "source": [
    "def construct_user_vector(ut):\n",
    "    utsents=ut.split('\\t')\n",
    "    utwords=[]\n",
    "    for sent in utsents:\n",
    "        words=sent.split(' ')\n",
    "        utwords+=words\n",
    "    utids=[]\n",
    "    for word in utwords:\n",
    "        try:\n",
    "            wi=word2index[word]\n",
    "        except:\n",
    "            continue\n",
    "        utids.append(wi)\n",
    "    #print(len(utids))\n",
    "    embeddingmatrix=onlyembeddings[[utids],:]\n",
    "    #print(embeddingmatrix.shape)\n",
    "    #print(embeddingmatrix)\n",
    "    embeddingmatrix=numpy.reshape(embeddingmatrix,(len(utids),onlyembeddings.shape[1]))\n",
    "    #print(embeddingmatrix.shape)\n",
    "    user_embedding=numpy.mean(embeddingmatrix,axis=0)\n",
    "    #print(user_embedding.shape)\n",
    "    #print(user_embedding)\n",
    "    return(user_embedding)"
   ]
  },
  {
   "cell_type": "markdown",
   "id": "3875f51a",
   "metadata": {},
   "source": [
    "## Test \"construct_user_vector\" function"
   ]
  },
  {
   "cell_type": "code",
   "execution_count": 52,
   "id": "d8a3976a",
   "metadata": {},
   "outputs": [
    {
     "name": "stdout",
     "output_type": "stream",
     "text": [
      "4\n",
      "(1, 4, 50)\n",
      "(4, 50)\n",
      "(50,)\n",
      "[-0.03114441 -0.00558786 -0.03650153 -0.00589928  0.00994047 -0.00601946\n",
      " -0.01408828  0.01285871  0.0348892  -0.01410735 -0.0055935  -0.01012005\n",
      "  0.02174653  0.01608618 -0.02453382  0.01585097  0.00308508 -0.0256366\n",
      " -0.00793062 -0.02370774  0.00675338  0.02222649 -0.00158792 -0.0127453\n",
      "  0.01447883  0.05925738  0.0299479   0.00798461 -0.02519177 -0.00645107\n",
      "  0.029131   -0.02759337 -0.02670989  0.00018515  0.01793671  0.00832105\n",
      " -0.00974767  0.03323479  0.00374375 -0.00265308  0.0183133  -0.0033772\n",
      "  0.01664072  0.00422745 -0.00924635  0.01644893 -0.016141    0.0207536\n",
      " -0.03818242  0.02055518]\n"
     ]
    },
    {
     "data": {
      "text/plain": [
       "array([-0.03114441, -0.00558786, -0.03650153, -0.00589928,  0.00994047,\n",
       "       -0.00601946, -0.01408828,  0.01285871,  0.0348892 , -0.01410735,\n",
       "       -0.0055935 , -0.01012005,  0.02174653,  0.01608618, -0.02453382,\n",
       "        0.01585097,  0.00308508, -0.0256366 , -0.00793062, -0.02370774,\n",
       "        0.00675338,  0.02222649, -0.00158792, -0.0127453 ,  0.01447883,\n",
       "        0.05925738,  0.0299479 ,  0.00798461, -0.02519177, -0.00645107,\n",
       "        0.029131  , -0.02759337, -0.02670989,  0.00018515,  0.01793671,\n",
       "        0.00832105, -0.00974767,  0.03323479,  0.00374375, -0.00265308,\n",
       "        0.0183133 , -0.0033772 ,  0.01664072,  0.00422745, -0.00924635,\n",
       "        0.01644893, -0.016141  ,  0.0207536 , -0.03818242,  0.02055518])"
      ]
     },
     "execution_count": 52,
     "metadata": {},
     "output_type": "execute_result"
    }
   ],
   "source": [
    "#construct_user_vector('great service\\tgood food')\n",
    "construct_user_vector('great place\\tgood food')"
   ]
  },
  {
   "cell_type": "code",
   "execution_count": 61,
   "id": "80c3f2b8",
   "metadata": {},
   "outputs": [
    {
     "data": {
      "text/plain": [
       "array([-0.05138747, -0.00163976, -0.0701213 , -0.03429977, -0.0056659 ,\n",
       "       -0.01026472, -0.00516783,  0.01041776,  0.06018643, -0.00222773,\n",
       "       -0.02343767, -0.02159223,  0.0356687 ,  0.05788273,  0.0027088 ,\n",
       "        0.046091  , -0.01140145, -0.00484977, -0.0101957 , -0.02494785,\n",
       "        0.01355051,  0.00145659, -0.0037733 , -0.05955048,  0.0344942 ,\n",
       "        0.05056943,  0.0217402 , -0.02027992, -0.00142567,  0.00199353,\n",
       "        0.07822237,  0.02446197, -0.00641833, -0.00265917,  0.01999543,\n",
       "        0.02482507,  0.0021395 ,  0.04680101,  0.01987697, -0.02204873,\n",
       "        0.0180526 ,  0.0004619 , -0.0023353 , -0.00099829, -0.04831893,\n",
       "       -0.0161306 , -0.03972167,  0.0197076 , -0.05024077,  0.01819029])"
      ]
     },
     "execution_count": 61,
     "metadata": {},
     "output_type": "execute_result"
    }
   ],
   "source": [
    "construct_user_vector('great great place')"
   ]
  },
  {
   "cell_type": "code",
   "execution_count": 45,
   "id": "c1ed1567",
   "metadata": {},
   "outputs": [
    {
     "name": "stdout",
     "output_type": "stream",
     "text": [
      "                  user_id                                          user_text\n",
      "0  yXQM5uF2jS6es16SJzNHfg  adore travis hard rock new kelly cardenas salo...\n",
      "1  n6-Gk65cPZL6Uz8qRm3NYw  say office really together organized friendly ...\n",
      "2  dacAIZ6fTM6mqwW5uxkskg  went lunch steak sandwich delicious caesar sal...\n",
      "3  w31MKYsNFMrjhWxxAb5wIw  first admit excited going la tavolta food snob...\n",
      "4  FIk4lQQu1eTe2EpzQ4xhBA  like walking back time every saturday morning ...\n"
     ]
    }
   ],
   "source": [
    "uttsub=user_trove_text[:5]\n",
    "print(uttsub)\n",
    "uttsub['user_vector']=uttsub['user_text'].apply(construct_user_vector)"
   ]
  },
  {
   "cell_type": "code",
   "execution_count": 55,
   "id": "dd97c9dc",
   "metadata": {},
   "outputs": [
    {
     "name": "stdout",
     "output_type": "stream",
     "text": [
      "[ 2.20885017e-03 -2.76133208e-03 -1.71596288e-03  4.10782680e-05\n",
      "  3.02524725e-03 -1.25246633e-02 -1.85634095e-02 -6.91440986e-03\n",
      " -1.11139981e-02  5.14055163e-03  2.67222332e-03  1.64532948e-02\n",
      "  6.51711419e-03 -2.99987846e-04 -1.04801459e-02  1.06025856e-02\n",
      "  7.30883853e-03  2.00066369e-02  2.78504871e-03  4.10778843e-03\n",
      "  3.79805388e-03  1.02089387e-02  7.52436733e-04  1.42835346e-02\n",
      "  1.20174594e-03 -1.45579899e-03 -4.82707168e-03 -3.82220286e-03\n",
      "  3.61898196e-03 -9.64714905e-03 -2.71067079e-03  1.18350605e-02\n",
      "  3.45518855e-03  2.30898850e-03  1.69463082e-03 -3.92159342e-03\n",
      "  1.82942177e-02 -8.58568314e-03  2.45915010e-03 -1.28370141e-02\n",
      " -3.98532768e-03 -6.36206386e-03 -5.67608980e-03  5.69927338e-03\n",
      " -1.86201813e-03  1.86407907e-02  3.14488727e-03 -4.32414319e-03\n",
      "  9.82206915e-03  4.93275912e-03]\n"
     ]
    }
   ],
   "source": [
    "print(uttsub.iloc[0]['user_vector'])"
   ]
  },
  {
   "cell_type": "markdown",
   "id": "4cc2773a",
   "metadata": {},
   "source": [
    "## Apply \"construct_user_vector\" and store for all users"
   ]
  },
  {
   "cell_type": "code",
   "execution_count": 57,
   "id": "bdfc4d92",
   "metadata": {},
   "outputs": [
    {
     "name": "stdout",
     "output_type": "stream",
     "text": [
      "(1251983, 3)\n",
      "Index(['user_id', 'user_text', 'user_vector'], dtype='object')\n",
      "CPU times: user 1min 54s, sys: 4.75 s, total: 1min 59s\n",
      "Wall time: 1min 59s\n"
     ]
    }
   ],
   "source": [
    "%%time\n",
    "user_trove_text['user_vector']=user_trove_text['user_text'].apply(construct_user_vector)\n",
    "print(user_trove_text.shape)\n",
    "print(user_trove_text.columns)"
   ]
  },
  {
   "cell_type": "code",
   "execution_count": 58,
   "id": "ce275bb2",
   "metadata": {},
   "outputs": [
    {
     "name": "stdout",
     "output_type": "stream",
     "text": [
      "(1251983, 2)\n",
      "Index(['user_id', 'user_vector'], dtype='object')\n"
     ]
    }
   ],
   "source": [
    "user_trove=user_trove_text.drop(['user_text'],axis=1)\n",
    "print(user_trove.shape)\n",
    "print(user_trove.columns)"
   ]
  },
  {
   "cell_type": "code",
   "execution_count": 60,
   "id": "d266a757",
   "metadata": {},
   "outputs": [],
   "source": [
    "user_trove.to_pickle('models/user_trove.pkl')"
   ]
  }
 ],
 "metadata": {
  "kernelspec": {
   "display_name": "Python 3 (ipykernel)",
   "language": "python",
   "name": "python3"
  },
  "language_info": {
   "codemirror_mode": {
    "name": "ipython",
    "version": 3
   },
   "file_extension": ".py",
   "mimetype": "text/x-python",
   "name": "python",
   "nbconvert_exporter": "python",
   "pygments_lexer": "ipython3",
   "version": "3.8.5"
  }
 },
 "nbformat": 4,
 "nbformat_minor": 5
}
