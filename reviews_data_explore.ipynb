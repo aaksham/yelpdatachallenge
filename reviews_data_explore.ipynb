{
 "cells": [
  {
   "cell_type": "code",
   "execution_count": 1,
   "metadata": {},
   "outputs": [],
   "source": [
    "import os\n",
    "import pandas\n",
    "import json"
   ]
  },
  {
   "cell_type": "code",
   "execution_count": 3,
   "metadata": {},
   "outputs": [],
   "source": [
    "review_data=pandas.read_pickle('data/reviews.pkl')"
   ]
  },
  {
   "cell_type": "code",
   "execution_count": 4,
   "metadata": {},
   "outputs": [
    {
     "name": "stdout",
     "output_type": "stream",
     "text": [
      "(5507717, 12)\n"
     ]
    }
   ],
   "source": [
    "print(review_data.shape)"
   ]
  },
  {
   "cell_type": "code",
   "execution_count": 7,
   "metadata": {},
   "outputs": [
    {
     "name": "stdout",
     "output_type": "stream",
     "text": [
      "Index(['review_id', 'user_id', 'business_id', 'stars', 'useful', 'funny',\n",
      "       'cool', 'text', 'date', 'name', 'attributes.RestaurantsPriceRange2',\n",
      "       'review_count'],\n",
      "      dtype='object')\n",
      "review_id                             object\n",
      "user_id                               object\n",
      "business_id                           object\n",
      "stars                                float64\n",
      "useful                                 int64\n",
      "funny                                  int64\n",
      "cool                                   int64\n",
      "text                                  object\n",
      "date                                  object\n",
      "name                                  object\n",
      "attributes.RestaurantsPriceRange2    float64\n",
      "review_count                         float64\n",
      "dtype: object\n"
     ]
    }
   ],
   "source": [
    "print(review_data.columns)\n",
    "print(review_data.dtypes)"
   ]
  },
  {
   "cell_type": "code",
   "execution_count": 8,
   "metadata": {},
   "outputs": [],
   "source": [
    "review_data['date2']=pandas.to_datetime(review_data['date'])"
   ]
  },
  {
   "cell_type": "code",
   "execution_count": 9,
   "metadata": {},
   "outputs": [
    {
     "name": "stdout",
     "output_type": "stream",
     "text": [
      "review_id                                    object\n",
      "user_id                                      object\n",
      "business_id                                  object\n",
      "stars                                       float64\n",
      "useful                                        int64\n",
      "funny                                         int64\n",
      "cool                                          int64\n",
      "text                                         object\n",
      "date                                         object\n",
      "name                                         object\n",
      "attributes.RestaurantsPriceRange2           float64\n",
      "review_count                                float64\n",
      "date2                                datetime64[ns]\n",
      "dtype: object\n"
     ]
    }
   ],
   "source": [
    "print(review_data.dtypes)"
   ]
  },
  {
   "cell_type": "code",
   "execution_count": 10,
   "metadata": {},
   "outputs": [
    {
     "name": "stdout",
     "output_type": "stream",
     "text": [
      "2017-01-14 21:30:33\n"
     ]
    }
   ],
   "source": [
    "print(review_data.iloc[0]['date2'])"
   ]
  },
  {
   "cell_type": "code",
   "execution_count": 11,
   "metadata": {},
   "outputs": [],
   "source": [
    "rev_=review_data.sort_values(by=['useful','date2'],ascending=[False,False])"
   ]
  },
  {
   "cell_type": "code",
   "execution_count": 12,
   "metadata": {},
   "outputs": [
    {
     "name": "stdout",
     "output_type": "stream",
     "text": [
      "                      review_id                 user_id  \\\n",
      "1218724  4ZN5ZWVoGd8er9giAKgV-g  AsUDg2wZZqkgZzl0kuFvIA   \n",
      "1292098  A8mLBytNM2zmjHgSpsuZDA  qiTy11I-yp6foxIghRfGOA   \n",
      "1319233  ZmEtySx0W_RSv07aY9AnzQ  BbSWL3PjQBzY7uDWaqlXqg   \n",
      "\n",
      "                    business_id  stars  useful  funny  cool  \\\n",
      "1218724  DN0b4Un8--Uf6SEWLeh0UA    2.0    1241    277   174   \n",
      "1292098  DN0b4Un8--Uf6SEWLeh0UA    1.0    1122    628   506   \n",
      "1319233  DN0b4Un8--Uf6SEWLeh0UA    1.0     970    332   121   \n",
      "\n",
      "                                                      text  \\\n",
      "1218724  Dinner for 1.\\n\\n- Preface\\nI went to Amy's Ba...   \n",
      "1292098  In retrospect, I should have known better than...   \n",
      "1319233  This restaurant is horrible. \\n\\nFirst off the...   \n",
      "\n",
      "                        date                  name  \\\n",
      "1218724  2014-04-21 05:03:59  Amy's Baking Company   \n",
      "1292098  2010-08-01 16:04:17  Amy's Baking Company   \n",
      "1319233  2013-08-22 05:02:56  Amy's Baking Company   \n",
      "\n",
      "         attributes.RestaurantsPriceRange2  review_count               date2  \n",
      "1218724                                2.0         546.0 2014-04-21 05:03:59  \n",
      "1292098                                2.0         546.0 2010-08-01 16:04:17  \n",
      "1319233                                2.0         546.0 2013-08-22 05:02:56  \n"
     ]
    }
   ],
   "source": [
    "print(rev_[:3])"
   ]
  },
  {
   "cell_type": "code",
   "execution_count": 13,
   "metadata": {},
   "outputs": [],
   "source": [
    "rev_sorted=rev_.groupby('business_id').head(100)"
   ]
  },
  {
   "cell_type": "code",
   "execution_count": 14,
   "metadata": {},
   "outputs": [
    {
     "name": "stdout",
     "output_type": "stream",
     "text": [
      "(3257815, 13)\n"
     ]
    }
   ],
   "source": [
    "print(rev_sorted.shape)"
   ]
  },
  {
   "cell_type": "code",
   "execution_count": 15,
   "metadata": {},
   "outputs": [],
   "source": [
    "rev_sorted1k=rev_sorted.head(1000)\n",
    "rev_sorted1k.to_csv('rev_sorted_1000.csv',index=False)"
   ]
  },
  {
   "cell_type": "code",
   "execution_count": 16,
   "metadata": {},
   "outputs": [],
   "source": [
    "chk=rev_sorted[rev_sorted['business_id']=='mG71gQ5HWl7ut9OCN6NJKA']"
   ]
  },
  {
   "cell_type": "code",
   "execution_count": 17,
   "metadata": {},
   "outputs": [
    {
     "name": "stdout",
     "output_type": "stream",
     "text": [
      "(100, 13)\n"
     ]
    }
   ],
   "source": [
    "print(chk.shape)"
   ]
  },
  {
   "cell_type": "code",
   "execution_count": 18,
   "metadata": {},
   "outputs": [],
   "source": [
    "chk=rev_sorted[rev_sorted['business_id']=='HSu5vcs6dkTG6rwYrmHtSg']"
   ]
  },
  {
   "cell_type": "code",
   "execution_count": 19,
   "metadata": {},
   "outputs": [
    {
     "name": "stdout",
     "output_type": "stream",
     "text": [
      "(21, 13)\n"
     ]
    }
   ],
   "source": [
    "print(chk.shape)"
   ]
  },
  {
   "cell_type": "code",
   "execution_count": null,
   "metadata": {},
   "outputs": [],
   "source": [
    "rev_sorted.to_pickle(\"data/reviews_selected.pkl\")"
   ]
  },
  {
   "cell_type": "code",
   "execution_count": null,
   "metadata": {},
   "outputs": [],
   "source": []
  }
 ],
 "metadata": {
  "kernelspec": {
   "display_name": "Python 3",
   "language": "python",
   "name": "python3"
  },
  "language_info": {
   "codemirror_mode": {
    "name": "ipython",
    "version": 3
   },
   "file_extension": ".py",
   "mimetype": "text/x-python",
   "name": "python",
   "nbconvert_exporter": "python",
   "pygments_lexer": "ipython3",
   "version": "3.8.5"
  }
 },
 "nbformat": 4,
 "nbformat_minor": 4
}
