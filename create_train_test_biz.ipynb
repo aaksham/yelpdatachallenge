{
 "cells": [
  {
   "cell_type": "code",
   "execution_count": 5,
   "metadata": {},
   "outputs": [],
   "source": [
    "import pandas\n",
    "import sklearn\n",
    "from sklearn.model_selection import StratifiedShuffleSplit"
   ]
  },
  {
   "cell_type": "code",
   "execution_count": 2,
   "metadata": {},
   "outputs": [],
   "source": [
    "data=pandas.read_csv('bizdfsmall.csv')"
   ]
  },
  {
   "cell_type": "code",
   "execution_count": 3,
   "metadata": {},
   "outputs": [
    {
     "name": "stdout",
     "output_type": "stream",
     "text": [
      "(108082, 4)\n",
      "Index(['business_id', 'name', 'attributes.RestaurantsPriceRange2',\n",
      "       'review_count'],\n",
      "      dtype='object')\n"
     ]
    }
   ],
   "source": [
    "print(data.shape)\n",
    "print(data.columns)"
   ]
  },
  {
   "cell_type": "code",
   "execution_count": 14,
   "metadata": {},
   "outputs": [],
   "source": [
    "y=data['attributes.RestaurantsPriceRange2']"
   ]
  },
  {
   "cell_type": "code",
   "execution_count": 28,
   "metadata": {},
   "outputs": [],
   "source": [
    "splitter_train_rem=StratifiedShuffleSplit(n_splits=1,random_state=42,test_size=0.2)\n",
    "splitter_val_test=StratifiedShuffleSplit(n_splits=1,random_state=42,test_size=0.5)"
   ]
  },
  {
   "cell_type": "code",
   "execution_count": 29,
   "metadata": {},
   "outputs": [
    {
     "name": "stdout",
     "output_type": "stream",
     "text": [
      "(86465, 4)\n",
      "(21617, 4)\n",
      "(10808, 4)\n",
      "(10809, 4)\n"
     ]
    }
   ],
   "source": [
    "split_=splitter_train_rem.split(data,y)\n",
    "for train,rem in split_:\n",
    "    train_data=data.iloc[train[:]]\n",
    "    print(train_data.shape)\n",
    "    rem_data=data.iloc[rem[:]]\n",
    "    print(rem_data.shape)\n",
    "\n",
    "split_=splitter_val_test.split(rem_data,rem_data['attributes.RestaurantsPriceRange2'])\n",
    "for val,test in split_:\n",
    "    val_data=rem_data.iloc[val[:]]\n",
    "    print(val_data.shape)\n",
    "    test_data=rem_data.iloc[test[:]]\n",
    "    print(test_data.shape)"
   ]
  },
  {
   "cell_type": "code",
   "execution_count": 30,
   "metadata": {},
   "outputs": [
    {
     "name": "stdout",
     "output_type": "stream",
     "text": [
      "(86465, 4)\n",
      "(21617, 4)\n",
      "(10808, 4)\n",
      "(10809, 4)\n"
     ]
    }
   ],
   "source": [
    "print(train_data.shape)\n",
    "print(rem_data.shape)\n",
    "print(val_data.shape)\n",
    "print(test_data.shape)"
   ]
  },
  {
   "cell_type": "code",
   "execution_count": 31,
   "metadata": {},
   "outputs": [
    {
     "data": {
      "text/plain": [
       "business_id                          kzuQsq0KPWLeKFtnLXXyHg\n",
       "name                                                  Tam's\n",
       "attributes.RestaurantsPriceRange2                         1\n",
       "review_count                                             57\n",
       "Name: 76408, dtype: object"
      ]
     },
     "execution_count": 31,
     "metadata": {},
     "output_type": "execute_result"
    }
   ],
   "source": [
    "train_data.iloc[5]"
   ]
  },
  {
   "cell_type": "code",
   "execution_count": 33,
   "metadata": {},
   "outputs": [
    {
     "name": "stdout",
     "output_type": "stream",
     "text": [
      "4259521\n",
      "538012\n",
      "529124\n"
     ]
    }
   ],
   "source": [
    "print(train_data['review_count'].sum())\n",
    "print(val_data['review_count'].sum())\n",
    "print(test_data['review_count'].sum())"
   ]
  },
  {
   "cell_type": "code",
   "execution_count": 35,
   "metadata": {},
   "outputs": [
    {
     "name": "stdout",
     "output_type": "stream",
     "text": [
      "2    0.569068\n",
      "1    0.313271\n",
      "3    0.096797\n",
      "4    0.020864\n",
      "Name: attributes.RestaurantsPriceRange2, dtype: float64\n",
      "2    0.569063\n",
      "1    0.313271\n",
      "3    0.096802\n",
      "4    0.020864\n",
      "Name: attributes.RestaurantsPriceRange2, dtype: float64\n",
      "2    0.569115\n",
      "1    0.313286\n",
      "3    0.096780\n",
      "4    0.020818\n",
      "Name: attributes.RestaurantsPriceRange2, dtype: float64\n",
      "2    0.569063\n",
      "1    0.313257\n",
      "3    0.096771\n",
      "4    0.020909\n",
      "Name: attributes.RestaurantsPriceRange2, dtype: float64\n"
     ]
    }
   ],
   "source": [
    "#verifying stratified split\n",
    "priceranges=data['attributes.RestaurantsPriceRange2'].value_counts(normalize=True)\n",
    "print(priceranges)\n",
    "priceranges=train_data['attributes.RestaurantsPriceRange2'].value_counts(normalize=True)\n",
    "print(priceranges)\n",
    "priceranges=val_data['attributes.RestaurantsPriceRange2'].value_counts(normalize=True)\n",
    "print(priceranges)\n",
    "priceranges=test_data['attributes.RestaurantsPriceRange2'].value_counts(normalize=True)\n",
    "print(priceranges)"
   ]
  },
  {
   "cell_type": "code",
   "execution_count": 36,
   "metadata": {},
   "outputs": [],
   "source": [
    "train_data.to_pickle(\"data/train_biz_ids.pkl\")\n",
    "val_data.to_pickle(\"data/val_biz_ids.pkl\")\n",
    "test_data.to_pickle(\"data/test_biz_ids.pkl\")"
   ]
  },
  {
   "cell_type": "code",
   "execution_count": 38,
   "metadata": {},
   "outputs": [],
   "source": [
    "train_data.to_csv(\"data/train_biz_ids.csv\",index=False)\n",
    "val_data.to_csv(\"data/val_biz_ids.csv\",index=False)\n",
    "test_data.to_csv(\"data/test_biz_ids.csv\",index=False)"
   ]
  },
  {
   "cell_type": "code",
   "execution_count": null,
   "metadata": {},
   "outputs": [],
   "source": []
  }
 ],
 "metadata": {
  "kernelspec": {
   "display_name": "Python 3 (ipykernel)",
   "language": "python",
   "name": "python3"
  },
  "language_info": {
   "codemirror_mode": {
    "name": "ipython",
    "version": 3
   },
   "file_extension": ".py",
   "mimetype": "text/x-python",
   "name": "python",
   "nbconvert_exporter": "python",
   "pygments_lexer": "ipython3",
   "version": "3.8.5"
  }
 },
 "nbformat": 4,
 "nbformat_minor": 4
}
