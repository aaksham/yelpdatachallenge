{
 "cells": [
  {
   "cell_type": "code",
   "execution_count": 1,
   "metadata": {},
   "outputs": [],
   "source": [
    "import pandas"
   ]
  },
  {
   "cell_type": "code",
   "execution_count": 7,
   "metadata": {},
   "outputs": [],
   "source": [
    "train_ids=pandas.read_pickle('data/train_biz_ids.pkl')\n",
    "train_ids['bucket']='train'\n",
    "val_ids=pandas.read_pickle('data/val_biz_ids.pkl')\n",
    "val_ids['bucket']='val'\n",
    "test_ids=pandas.read_pickle('data/test_biz_ids.pkl')\n",
    "test_ids['bucket']='test'"
   ]
  },
  {
   "cell_type": "code",
   "execution_count": 6,
   "metadata": {},
   "outputs": [
    {
     "name": "stdout",
     "output_type": "stream",
     "text": [
      "Index(['business_id', 'name', 'attributes.RestaurantsPriceRange2',\n",
      "       'review_count', 'bucket'],\n",
      "      dtype='object')\n"
     ]
    }
   ],
   "source": [
    "print(train_ids.columns)"
   ]
  },
  {
   "cell_type": "code",
   "execution_count": 4,
   "metadata": {},
   "outputs": [],
   "source": [
    "reviews_all=pandas.read_pickle('data/reviews_prepped.pkl')"
   ]
  },
  {
   "cell_type": "code",
   "execution_count": 8,
   "metadata": {},
   "outputs": [],
   "source": [
    "bizdf=pandas.concat([train_ids,val_ids,test_ids],axis=0)"
   ]
  },
  {
   "cell_type": "code",
   "execution_count": 10,
   "metadata": {},
   "outputs": [
    {
     "name": "stdout",
     "output_type": "stream",
     "text": [
      "(108082, 5)\n"
     ]
    }
   ],
   "source": [
    "print(bizdf.shape)"
   ]
  },
  {
   "cell_type": "code",
   "execution_count": 9,
   "metadata": {},
   "outputs": [
    {
     "name": "stdout",
     "output_type": "stream",
     "text": [
      "Index(['review_id', 'user_id', 'business_id', 'stars', 'useful', 'funny',\n",
      "       'cool', 'date', 'name', 'attributes.RestaurantsPriceRange2',\n",
      "       'review_count', 'date2', 'text_prep'],\n",
      "      dtype='object')\n"
     ]
    }
   ],
   "source": [
    "print(reviews_all.columns)"
   ]
  },
  {
   "cell_type": "code",
   "execution_count": 19,
   "metadata": {},
   "outputs": [],
   "source": [
    "reviews_all_with_bucket=pandas.merge(reviews_all,bizdf,on='business_id',how='outer')"
   ]
  },
  {
   "cell_type": "code",
   "execution_count": 20,
   "metadata": {},
   "outputs": [
    {
     "name": "stdout",
     "output_type": "stream",
     "text": [
      "(3257815, 13)\n",
      "(3257818, 17)\n"
     ]
    }
   ],
   "source": [
    "print(reviews_all.shape)\n",
    "print(reviews_all_with_bucket.shape)"
   ]
  },
  {
   "cell_type": "code",
   "execution_count": 13,
   "metadata": {},
   "outputs": [
    {
     "name": "stdout",
     "output_type": "stream",
     "text": [
      "Index(['review_id', 'user_id', 'business_id', 'stars', 'useful', 'funny',\n",
      "       'cool', 'date', 'name_x', 'attributes.RestaurantsPriceRange2_x',\n",
      "       'review_count_x', 'date2', 'text_prep', 'name_y',\n",
      "       'attributes.RestaurantsPriceRange2_y', 'review_count_y', 'bucket'],\n",
      "      dtype='object')\n"
     ]
    }
   ],
   "source": [
    "print(reviews_all_with_bucket.columns)"
   ]
  },
  {
   "cell_type": "code",
   "execution_count": 21,
   "metadata": {},
   "outputs": [
    {
     "name": "stdout",
     "output_type": "stream",
     "text": [
      "3\n",
      "0\n"
     ]
    }
   ],
   "source": [
    "print(reviews_all_with_bucket['name_x'].isna().sum())\n",
    "print(reviews_all_with_bucket['name_y'].isna().sum())\n",
    "#this means there are 3 businesses for which there are no reviews found"
   ]
  },
  {
   "cell_type": "code",
   "execution_count": 22,
   "metadata": {},
   "outputs": [],
   "source": [
    "nomatch=reviews_all_with_bucket[reviews_all_with_bucket['name_x'].isna()]\n",
    "reviews_all_with_bucket=reviews_all_with_bucket[~reviews_all_with_bucket['name_x'].isna()]"
   ]
  },
  {
   "cell_type": "code",
   "execution_count": 18,
   "metadata": {},
   "outputs": [
    {
     "name": "stdout",
     "output_type": "stream",
     "text": [
      "(3257815, 17)\n"
     ]
    }
   ],
   "source": [
    "print(reviews_all_with_bucket.shape)"
   ]
  },
  {
   "cell_type": "code",
   "execution_count": 23,
   "metadata": {},
   "outputs": [
    {
     "name": "stdout",
     "output_type": "stream",
     "text": [
      "3257815    train\n",
      "3257816    train\n",
      "3257817    train\n",
      "Name: bucket, dtype: object\n"
     ]
    }
   ],
   "source": [
    "print(nomatch['bucket'])"
   ]
  },
  {
   "cell_type": "code",
   "execution_count": 24,
   "metadata": {},
   "outputs": [
    {
     "name": "stdout",
     "output_type": "stream",
     "text": [
      "(0, 17)\n"
     ]
    }
   ],
   "source": [
    "#verify join is correct\n",
    "chk=reviews_all_with_bucket.loc[~(reviews_all_with_bucket['name_x']==reviews_all_with_bucket['name_y'])]\n",
    "print(chk.shape)"
   ]
  },
  {
   "cell_type": "code",
   "execution_count": 28,
   "metadata": {},
   "outputs": [
    {
     "name": "stdout",
     "output_type": "stream",
     "text": [
      "Index(['review_id', 'user_id', 'business_id', 'stars', 'useful', 'funny',\n",
      "       'cool', 'date', 'name', 'pricerange', 'review_count', 'date2',\n",
      "       'text_prep', 'bucket'],\n",
      "      dtype='object')\n"
     ]
    }
   ],
   "source": [
    "reviews_all_with_bucket=reviews_all_with_bucket.drop(['name_y','attributes.RestaurantsPriceRange2_y','review_count_y'],axis=1)\n",
    "reviews_all_with_bucket=reviews_all_with_bucket.rename(columns={\n",
    "    'name_x':'name', 'attributes.RestaurantsPriceRange2_x':'pricerange','review_count_x':'review_count'})\n",
    "print(reviews_all_with_bucket.columns)"
   ]
  },
  {
   "cell_type": "code",
   "execution_count": 29,
   "metadata": {},
   "outputs": [],
   "source": [
    "train_reviews=reviews_all_with_bucket[reviews_all_with_bucket['bucket']=='train']\n",
    "val_reviews=reviews_all_with_bucket[reviews_all_with_bucket['bucket']=='val']\n",
    "test_reviews=reviews_all_with_bucket[reviews_all_with_bucket['bucket']=='test']"
   ]
  },
  {
   "cell_type": "code",
   "execution_count": 26,
   "metadata": {},
   "outputs": [
    {
     "name": "stdout",
     "output_type": "stream",
     "text": [
      "(2608302, 17)\n",
      "(324584, 17)\n",
      "(324929, 17)\n"
     ]
    }
   ],
   "source": [
    "print(train_reviews.shape)\n",
    "print(val_reviews.shape)\n",
    "print(test_reviews.shape)"
   ]
  },
  {
   "cell_type": "code",
   "execution_count": 30,
   "metadata": {},
   "outputs": [],
   "source": [
    "train_reviews=train_reviews.drop(['bucket'],axis=1)\n",
    "val_reviews=val_reviews.drop(['bucket'],axis=1)\n",
    "test_reviews=test_reviews.drop(['bucket'],axis=1)"
   ]
  },
  {
   "cell_type": "code",
   "execution_count": 31,
   "metadata": {},
   "outputs": [
    {
     "name": "stdout",
     "output_type": "stream",
     "text": [
      "Index(['review_id', 'user_id', 'business_id', 'stars', 'useful', 'funny',\n",
      "       'cool', 'date', 'name', 'pricerange', 'review_count', 'date2',\n",
      "       'text_prep'],\n",
      "      dtype='object')\n"
     ]
    }
   ],
   "source": [
    "print(train_reviews.columns)"
   ]
  },
  {
   "cell_type": "code",
   "execution_count": 32,
   "metadata": {},
   "outputs": [],
   "source": [
    "train_reviews.to_pickle(\"data/reviews_train.pkl\")\n",
    "val_reviews.to_pickle(\"data/reviews_val.pkl\")\n",
    "test_reviews.to_pickle(\"data/reviews_test.pkl\")"
   ]
  },
  {
   "cell_type": "code",
   "execution_count": null,
   "metadata": {},
   "outputs": [],
   "source": []
  }
 ],
 "metadata": {
  "kernelspec": {
   "display_name": "Python 3 (ipykernel)",
   "language": "python",
   "name": "python3"
  },
  "language_info": {
   "codemirror_mode": {
    "name": "ipython",
    "version": 3
   },
   "file_extension": ".py",
   "mimetype": "text/x-python",
   "name": "python",
   "nbconvert_exporter": "python",
   "pygments_lexer": "ipython3",
   "version": "3.8.5"
  }
 },
 "nbformat": 4,
 "nbformat_minor": 4
}
