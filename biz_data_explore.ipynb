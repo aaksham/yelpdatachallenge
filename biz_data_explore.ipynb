{
 "cells": [
  {
   "cell_type": "code",
   "execution_count": 1,
   "metadata": {},
   "outputs": [],
   "source": [
    "import os\n",
    "import json\n",
    "import pandas"
   ]
  },
  {
   "cell_type": "code",
   "execution_count": 5,
   "metadata": {},
   "outputs": [],
   "source": [
    "bizdata='data/yelp_academic_dataset_business.json'\n",
    "reviews='data/yelp_academic_dataset_review.json'"
   ]
  },
  {
   "cell_type": "code",
   "execution_count": 3,
   "metadata": {},
   "outputs": [],
   "source": [
    "def read_data(datafilename):\n",
    "    data_file = open(datafilename,'r')\n",
    "    data = []\n",
    "    for line in data_file:\n",
    "        data.append(json.loads(line))\n",
    "    data_file.close()\n",
    "    return data"
   ]
  },
  {
   "cell_type": "code",
   "execution_count": 7,
   "metadata": {},
   "outputs": [
    {
     "name": "stdout",
     "output_type": "stream",
     "text": [
      "(192609, 60)\n",
      "Index(['business_id', 'name', 'address', 'city', 'state', 'postal_code',\n",
      "       'latitude', 'longitude', 'stars', 'review_count', 'is_open',\n",
      "       'categories', 'hours', 'attributes.GoodForKids',\n",
      "       'attributes.RestaurantsReservations', 'attributes.GoodForMeal',\n",
      "       'attributes.BusinessParking', 'attributes.Caters',\n",
      "       'attributes.NoiseLevel', 'attributes.RestaurantsTableService',\n",
      "       'attributes.RestaurantsTakeOut', 'attributes.RestaurantsPriceRange2',\n",
      "       'attributes.OutdoorSeating', 'attributes.BikeParking',\n",
      "       'attributes.Ambience', 'attributes.HasTV', 'attributes.WiFi',\n",
      "       'attributes.Alcohol', 'attributes.RestaurantsAttire',\n",
      "       'attributes.RestaurantsGoodForGroups', 'attributes.RestaurantsDelivery',\n",
      "       'hours.Monday', 'hours.Tuesday', 'hours.Wednesday', 'hours.Thursday',\n",
      "       'hours.Friday', 'hours.Saturday', 'hours.Sunday',\n",
      "       'attributes.BusinessAcceptsCreditCards', 'attributes',\n",
      "       'attributes.BusinessAcceptsBitcoin', 'attributes.ByAppointmentOnly',\n",
      "       'attributes.AcceptsInsurance', 'attributes.Music',\n",
      "       'attributes.GoodForDancing', 'attributes.CoatCheck',\n",
      "       'attributes.HappyHour', 'attributes.BestNights',\n",
      "       'attributes.WheelchairAccessible', 'attributes.DogsAllowed',\n",
      "       'attributes.BYOBCorkage', 'attributes.DriveThru', 'attributes.Smoking',\n",
      "       'attributes.AgesAllowed', 'attributes.HairSpecializesIn',\n",
      "       'attributes.Corkage', 'attributes.BYOB',\n",
      "       'attributes.DietaryRestrictions', 'attributes.Open24Hours',\n",
      "       'attributes.RestaurantsCounterService'],\n",
      "      dtype='object')\n"
     ]
    }
   ],
   "source": [
    "#load\n",
    "bizraw=read_data(bizdata)\n",
    "bizdf_ = pandas.json_normalize(bizraw,max_level=1)\n",
    "print(bizdf_.shape)\n",
    "print(bizdf_.columns)"
   ]
  },
  {
   "cell_type": "code",
   "execution_count": 12,
   "metadata": {},
   "outputs": [
    {
     "name": "stdout",
     "output_type": "stream",
     "text": [
      "(192609, 58)\n",
      "(108179, 58)\n",
      "(108082, 58)\n",
      "Index(['business_id', 'name', 'address', 'city', 'state', 'postal_code',\n",
      "       'latitude', 'longitude', 'stars', 'review_count', 'is_open',\n",
      "       'categories', 'attributes.GoodForKids',\n",
      "       'attributes.RestaurantsReservations', 'attributes.GoodForMeal',\n",
      "       'attributes.BusinessParking', 'attributes.Caters',\n",
      "       'attributes.NoiseLevel', 'attributes.RestaurantsTableService',\n",
      "       'attributes.RestaurantsTakeOut', 'attributes.RestaurantsPriceRange2',\n",
      "       'attributes.OutdoorSeating', 'attributes.BikeParking',\n",
      "       'attributes.Ambience', 'attributes.HasTV', 'attributes.WiFi',\n",
      "       'attributes.Alcohol', 'attributes.RestaurantsAttire',\n",
      "       'attributes.RestaurantsGoodForGroups', 'attributes.RestaurantsDelivery',\n",
      "       'hours.Monday', 'hours.Tuesday', 'hours.Wednesday', 'hours.Thursday',\n",
      "       'hours.Friday', 'hours.Saturday', 'hours.Sunday',\n",
      "       'attributes.BusinessAcceptsCreditCards',\n",
      "       'attributes.BusinessAcceptsBitcoin', 'attributes.ByAppointmentOnly',\n",
      "       'attributes.AcceptsInsurance', 'attributes.Music',\n",
      "       'attributes.GoodForDancing', 'attributes.CoatCheck',\n",
      "       'attributes.HappyHour', 'attributes.BestNights',\n",
      "       'attributes.WheelchairAccessible', 'attributes.DogsAllowed',\n",
      "       'attributes.BYOBCorkage', 'attributes.DriveThru', 'attributes.Smoking',\n",
      "       'attributes.AgesAllowed', 'attributes.HairSpecializesIn',\n",
      "       'attributes.Corkage', 'attributes.BYOB',\n",
      "       'attributes.DietaryRestrictions', 'attributes.Open24Hours',\n",
      "       'attributes.RestaurantsCounterService'],\n",
      "      dtype='object')\n"
     ]
    }
   ],
   "source": [
    "#clean\n",
    "print(bizdf_.shape)\n",
    "# bizdf_=bizdf_.drop(['hours','attributes'],axis=1)\n",
    "# print(bizdf_.shape)\n",
    "bizdf=bizdf_.dropna(subset=['attributes.RestaurantsPriceRange2'])\n",
    "print(bizdf.shape)\n",
    "bizdf=bizdf[bizdf['attributes.RestaurantsPriceRange2']!='None']\n",
    "print(bizdf.shape)\n",
    "print(bizdf.columns)"
   ]
  },
  {
   "cell_type": "code",
   "execution_count": 13,
   "metadata": {},
   "outputs": [
    {
     "name": "stdout",
     "output_type": "stream",
     "text": [
      "2    61506\n",
      "1    33859\n",
      "3    10462\n",
      "4     2255\n",
      "Name: attributes.RestaurantsPriceRange2, dtype: int64\n"
     ]
    }
   ],
   "source": [
    "priceranges=bizdf['attributes.RestaurantsPriceRange2'].value_counts()\n",
    "print(priceranges)"
   ]
  },
  {
   "cell_type": "code",
   "execution_count": 14,
   "metadata": {},
   "outputs": [
    {
     "name": "stdout",
     "output_type": "stream",
     "text": [
      "business_id                                                         QXAEGFB4oINsVuTFxEYKFQ\n",
      "name                                                            Emerald Chinese Restaurant\n",
      "address                                                               30 Eglinton Avenue W\n",
      "city                                                                           Mississauga\n",
      "state                                                                                   ON\n",
      "postal_code                                                                        L5R 3E7\n",
      "latitude                                                                           43.6055\n",
      "longitude                                                                         -79.6523\n",
      "stars                                                                                  2.5\n",
      "review_count                                                                           128\n",
      "is_open                                                                                  1\n",
      "categories                               Specialty Food, Restaurants, Dim Sum, Imported...\n",
      "attributes.GoodForKids                                                                True\n",
      "attributes.RestaurantsReservations                                                    True\n",
      "attributes.GoodForMeal                   {'dessert': False, 'latenight': False, 'lunch'...\n",
      "attributes.BusinessParking               {'garage': False, 'street': False, 'validated'...\n",
      "attributes.Caters                                                                     True\n",
      "attributes.NoiseLevel                                                              u'loud'\n",
      "attributes.RestaurantsTableService                                                    True\n",
      "attributes.RestaurantsTakeOut                                                         True\n",
      "attributes.RestaurantsPriceRange2                                                        2\n",
      "attributes.OutdoorSeating                                                            False\n",
      "attributes.BikeParking                                                               False\n",
      "attributes.Ambience                      {'romantic': False, 'intimate': False, 'classy...\n",
      "attributes.HasTV                                                                     False\n",
      "attributes.WiFi                                                                      u'no'\n",
      "attributes.Alcohol                                                             u'full_bar'\n",
      "attributes.RestaurantsAttire                                                     u'casual'\n",
      "attributes.RestaurantsGoodForGroups                                                   True\n",
      "attributes.RestaurantsDelivery                                                       False\n",
      "hours.Monday                                                                       9:0-0:0\n",
      "hours.Tuesday                                                                      9:0-0:0\n",
      "hours.Wednesday                                                                    9:0-0:0\n",
      "hours.Thursday                                                                     9:0-0:0\n",
      "hours.Friday                                                                       9:0-1:0\n",
      "hours.Saturday                                                                     9:0-1:0\n",
      "hours.Sunday                                                                       9:0-0:0\n",
      "attributes.BusinessAcceptsCreditCards                                                  NaN\n",
      "attributes.BusinessAcceptsBitcoin                                                      NaN\n",
      "attributes.ByAppointmentOnly                                                           NaN\n",
      "attributes.AcceptsInsurance                                                            NaN\n",
      "attributes.Music                                                                       NaN\n",
      "attributes.GoodForDancing                                                              NaN\n",
      "attributes.CoatCheck                                                                   NaN\n",
      "attributes.HappyHour                                                                   NaN\n",
      "attributes.BestNights                                                                  NaN\n",
      "attributes.WheelchairAccessible                                                        NaN\n",
      "attributes.DogsAllowed                                                                 NaN\n",
      "attributes.BYOBCorkage                                                                 NaN\n",
      "attributes.DriveThru                                                                   NaN\n",
      "attributes.Smoking                                                                     NaN\n",
      "attributes.AgesAllowed                                                                 NaN\n",
      "attributes.HairSpecializesIn                                                           NaN\n",
      "attributes.Corkage                                                                     NaN\n",
      "attributes.BYOB                                                                        NaN\n",
      "attributes.DietaryRestrictions                                                         NaN\n",
      "attributes.Open24Hours                                                                 NaN\n",
      "attributes.RestaurantsCounterService                                                   NaN\n",
      "Name: 1, dtype: object\n"
     ]
    }
   ],
   "source": [
    "print(bizdf.iloc[0])"
   ]
  },
  {
   "cell_type": "code",
   "execution_count": 15,
   "metadata": {},
   "outputs": [
    {
     "name": "stdout",
     "output_type": "stream",
     "text": [
      "(108082, 4)\n"
     ]
    }
   ],
   "source": [
    "bizdfsmall=bizdf[['business_id', 'name','attributes.RestaurantsPriceRange2','review_count']]\n",
    "print(bizdfsmall.shape)"
   ]
  },
  {
   "cell_type": "code",
   "execution_count": 16,
   "metadata": {},
   "outputs": [
    {
     "name": "stdout",
     "output_type": "stream",
     "text": [
      "              business_id                         name  \\\n",
      "1  QXAEGFB4oINsVuTFxEYKFQ   Emerald Chinese Restaurant   \n",
      "2  gnKjwL_1w79qoiV3IC_xQQ  Musashi Japanese Restaurant   \n",
      "5  68dUKd8_8liJ7in4aWOSEA                The UPS Store   \n",
      "6  5JucpCfHZltJh5r1JabjDg             Edgeworxx Studio   \n",
      "7  gbQN7vr_caG_A1ugSmGhWg                    Supercuts   \n",
      "\n",
      "  attributes.RestaurantsPriceRange2  review_count  \n",
      "1                                 2           128  \n",
      "2                                 2           170  \n",
      "5                                 2             3  \n",
      "6                                 2             7  \n",
      "7                                 3             3  \n"
     ]
    }
   ],
   "source": [
    "print(bizdfsmall.iloc[:5])"
   ]
  },
  {
   "cell_type": "code",
   "execution_count": 17,
   "metadata": {},
   "outputs": [
    {
     "data": {
      "image/png": "[encoded data removed]",
      "text/plain": [
       "<Figure size 432x288 with 1 Axes>"
      ]
     },
     "metadata": {
      "needs_background": "light"
     },
     "output_type": "display_data"
    }
   ],
   "source": [
    "rchist=bizdfsmall['review_count'].hist(bins=10)"
   ]
  },
  {
   "cell_type": "code",
   "execution_count": 19,
   "metadata": {},
   "outputs": [
    {
     "data": {
      "image/png": "[encoded data removed]",
      "text/plain": [
       "<Figure size 432x288 with 1 Axes>"
      ]
     },
     "metadata": {
      "needs_background": "light"
     },
     "output_type": "display_data"
    }
   ],
   "source": [
    "rchist=bizdfsmall['review_count'].hist(bins=10,range=(0,100))"
   ]
  },
  {
   "cell_type": "code",
   "execution_count": 20,
   "metadata": {},
   "outputs": [
    {
     "data": {
      "image/png": "[encoded data removed]",
      "text/plain": [
       "<Figure size 432x288 with 1 Axes>"
      ]
     },
     "metadata": {
      "needs_background": "light"
     },
     "output_type": "display_data"
    }
   ],
   "source": [
    "rchist=bizdfsmall['review_count'].hist(bins=10,range=(100,1000))"
   ]
  },
  {
   "cell_type": "code",
   "execution_count": 22,
   "metadata": {},
   "outputs": [
    {
     "name": "stdout",
     "output_type": "stream",
     "text": [
      "Empty DataFrame\n",
      "Columns: [business_id, name, attributes.RestaurantsPriceRange2, review_count]\n",
      "Index: []\n"
     ]
    }
   ],
   "source": [
    "count0=bizdfsmall[bizdfsmall['review_count']==0]\n",
    "print(count0)"
   ]
  },
  {
   "cell_type": "code",
   "execution_count": 21,
   "metadata": {},
   "outputs": [],
   "source": [
    "bizdfsmall.to_csv('bizdfsmall.csv',index=False)"
   ]
  },
  {
   "cell_type": "code",
   "execution_count": null,
   "metadata": {},
   "outputs": [],
   "source": []
  }
 ],
 "metadata": {
  "kernelspec": {
   "display_name": "Python 3 (ipykernel)",
   "language": "python",
   "name": "python3"
  },
  "language_info": {
   "codemirror_mode": {
    "name": "ipython",
    "version": 3
   },
   "file_extension": ".py",
   "mimetype": "text/x-python",
   "name": "python",
   "nbconvert_exporter": "python",
   "pygments_lexer": "ipython3",
   "version": "3.8.5"
  }
 },
 "nbformat": 4,
 "nbformat_minor": 4
}
