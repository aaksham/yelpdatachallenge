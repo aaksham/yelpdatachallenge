{
 "cells": [
  {
   "cell_type": "code",
   "execution_count": 1,
   "metadata": {},
   "outputs": [],
   "source": [
    "import pandas"
   ]
  },
  {
   "cell_type": "code",
   "execution_count": 3,
   "metadata": {},
   "outputs": [
    {
     "name": "stdout",
     "output_type": "stream",
     "text": [
      "(2608302, 13)\n",
      "Index(['review_id', 'user_id', 'business_id', 'stars', 'useful', 'funny',\n",
      "       'cool', 'date', 'name', 'pricerange', 'review_count', 'date2',\n",
      "       'text_prep'],\n",
      "      dtype='object')\n"
     ]
    }
   ],
   "source": [
    "train_data=pandas.read_pickle(\"data/reviews_train.pkl\")\n",
    "print(train_data.shape)\n",
    "print(train_data.columns)"
   ]
  },
  {
   "cell_type": "code",
   "execution_count": 4,
   "metadata": {},
   "outputs": [],
   "source": [
    "train_data['all_reviews']=train_data.groupby(['business_id'])['text_prep'].transform(lambda x: ' '.join(x))"
   ]
  },
  {
   "cell_type": "code",
   "execution_count": 5,
   "metadata": {},
   "outputs": [
    {
     "name": "stdout",
     "output_type": "stream",
     "text": [
      "(2608302, 14)\n",
      "Index(['review_id', 'user_id', 'business_id', 'stars', 'useful', 'funny',\n",
      "       'cool', 'date', 'name', 'pricerange', 'review_count', 'date2',\n",
      "       'text_prep', 'all_reviews'],\n",
      "      dtype='object')\n"
     ]
    }
   ],
   "source": [
    "print(train_data.shape)\n",
    "print(train_data.columns)"
   ]
  },
  {
   "cell_type": "code",
   "execution_count": 6,
   "metadata": {},
   "outputs": [
    {
     "name": "stdout",
     "output_type": "stream",
     "text": [
      "(2608302, 9)\n",
      "Index(['business_id', 'name', 'pricerange', 'review_count', 'all_reviews',\n",
      "       'stars_sum', 'useful_sum', 'funny_sum', 'cool_sum'],\n",
      "      dtype='object')\n"
     ]
    }
   ],
   "source": [
    "train_data['stars_sum']=train_data.groupby(['business_id'])['stars'].transform('sum')\n",
    "train_data['useful_sum']=train_data.groupby(['business_id'])['useful'].transform('sum')\n",
    "train_data['funny_sum']=train_data.groupby(['business_id'])['funny'].transform('sum')\n",
    "train_data['cool_sum']=train_data.groupby(['business_id'])['cool'].transform('sum')\n",
    "train_data=train_data.drop(['stars','useful','funny','cool','date','date2','review_id','user_id','text_prep'],axis=1)\n",
    "print(train_data.shape)\n",
    "print(train_data.columns)"
   ]
  },
  {
   "cell_type": "code",
   "execution_count": 7,
   "metadata": {},
   "outputs": [
    {
     "name": "stdout",
     "output_type": "stream",
     "text": [
      "(86462, 9)\n",
      "Index(['business_id', 'name', 'pricerange', 'review_count', 'all_reviews',\n",
      "       'stars_sum', 'useful_sum', 'funny_sum', 'cool_sum'],\n",
      "      dtype='object')\n"
     ]
    }
   ],
   "source": [
    "train_data.drop_duplicates(inplace=True)\n",
    "print(train_data.shape)\n",
    "print(train_data.columns)"
   ]
  },
  {
   "cell_type": "code",
   "execution_count": 9,
   "metadata": {},
   "outputs": [],
   "source": [
    "train_data.to_pickle(\"data/train_data.pkl\")"
   ]
  },
  {
   "cell_type": "code",
   "execution_count": 8,
   "metadata": {},
   "outputs": [
    {
     "name": "stdout",
     "output_type": "stream",
     "text": [
      "(324584, 13)\n",
      "Index(['review_id', 'user_id', 'business_id', 'stars', 'useful', 'funny',\n",
      "       'cool', 'date', 'name', 'pricerange', 'review_count', 'date2',\n",
      "       'text_prep'],\n",
      "      dtype='object')\n",
      "(10808, 9)\n",
      "Index(['business_id', 'name', 'pricerange', 'review_count', 'all_reviews',\n",
      "       'stars_sum', 'useful_sum', 'funny_sum', 'cool_sum'],\n",
      "      dtype='object')\n"
     ]
    }
   ],
   "source": [
    "val_data=pandas.read_pickle(\"data/reviews_val.pkl\")\n",
    "print(val_data.shape)\n",
    "print(val_data.columns)\n",
    "val_data['all_reviews']=val_data.groupby(['business_id'])['text_prep'].transform(lambda x: ' '.join(x))\n",
    "val_data['stars_sum']=val_data.groupby(['business_id'])['stars'].transform('sum')\n",
    "val_data['useful_sum']=val_data.groupby(['business_id'])['useful'].transform('sum')\n",
    "val_data['funny_sum']=val_data.groupby(['business_id'])['funny'].transform('sum')\n",
    "val_data['cool_sum']=val_data.groupby(['business_id'])['cool'].transform('sum')\n",
    "val_data=val_data.drop(['stars','useful','funny','cool','date','date2','review_id','user_id','text_prep'],axis=1)\n",
    "val_data.drop_duplicates(inplace=True)\n",
    "print(val_data.shape)\n",
    "print(val_data.columns)"
   ]
  },
  {
   "cell_type": "code",
   "execution_count": 10,
   "metadata": {},
   "outputs": [],
   "source": [
    "val_data.to_pickle(\"data/val_data.pkl\")"
   ]
  },
  {
   "cell_type": "code",
   "execution_count": 11,
   "metadata": {},
   "outputs": [
    {
     "name": "stdout",
     "output_type": "stream",
     "text": [
      "(324929, 13)\n",
      "Index(['review_id', 'user_id', 'business_id', 'stars', 'useful', 'funny',\n",
      "       'cool', 'date', 'name', 'pricerange', 'review_count', 'date2',\n",
      "       'text_prep'],\n",
      "      dtype='object')\n",
      "(10809, 9)\n",
      "Index(['business_id', 'name', 'pricerange', 'review_count', 'all_reviews',\n",
      "       'stars_sum', 'useful_sum', 'funny_sum', 'cool_sum'],\n",
      "      dtype='object')\n"
     ]
    }
   ],
   "source": [
    "test_data=pandas.read_pickle(\"data/reviews_test.pkl\")\n",
    "print(test_data.shape)\n",
    "print(test_data.columns)\n",
    "test_data['all_reviews']=test_data.groupby(['business_id'])['text_prep'].transform(lambda x: ' '.join(x))\n",
    "test_data['stars_sum']=test_data.groupby(['business_id'])['stars'].transform('sum')\n",
    "test_data['useful_sum']=test_data.groupby(['business_id'])['useful'].transform('sum')\n",
    "test_data['funny_sum']=test_data.groupby(['business_id'])['funny'].transform('sum')\n",
    "test_data['cool_sum']=test_data.groupby(['business_id'])['cool'].transform('sum')\n",
    "test_data=test_data.drop(['stars','useful','funny','cool','date','date2','review_id','user_id','text_prep'],axis=1)\n",
    "test_data.drop_duplicates(inplace=True)\n",
    "print(test_data.shape)\n",
    "print(test_data.columns)\n",
    "test_data.to_pickle(\"data/test_data.pkl\")"
   ]
  },
  {
   "cell_type": "code",
   "execution_count": null,
   "metadata": {},
   "outputs": [],
   "source": []
  }
 ],
 "metadata": {
  "kernelspec": {
   "display_name": "Python 3 (ipykernel)",
   "language": "python",
   "name": "python3"
  },
  "language_info": {
   "codemirror_mode": {
    "name": "ipython",
    "version": 3
   },
   "file_extension": ".py",
   "mimetype": "text/x-python",
   "name": "python",
   "nbconvert_exporter": "python",
   "pygments_lexer": "ipython3",
   "version": "3.8.5"
  }
 },
 "nbformat": 4,
 "nbformat_minor": 4
}
